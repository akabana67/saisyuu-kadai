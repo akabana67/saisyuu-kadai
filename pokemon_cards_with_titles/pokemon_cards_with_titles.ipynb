{
 "cells": [
  {
   "cell_type": "markdown",
   "id": "5503b052",
   "metadata": {},
   "source": [
    "### ライブラリのインポート"
   ]
  },
  {
   "cell_type": "code",
   "execution_count": 1,
   "id": "0b21a189",
   "metadata": {},
   "outputs": [],
   "source": [
    "import requests                  \n",
    "from bs4 import BeautifulSoup    \n",
    "import re                        \n",
    "import pandas as pd             "
   ]
  },
  {
   "cell_type": "markdown",
   "id": "1836651d",
   "metadata": {},
   "source": [
    "### HTMLから欲しいテキストを抽出する"
   ]
  },
  {
   "cell_type": "code",
   "execution_count": 2,
   "id": "03403c2f",
   "metadata": {},
   "outputs": [],
   "source": [
    "urls = [\n",
    "    \"https://magi.camp/blogs/167305889\",\n",
    "    \"https://magi.camp/blogs/47058427\", \n",
    "    \"https://magi.camp/blogs/774748184\"   \n",
    "]\n",
    "\n",
    "# 各ページごとに、lines（テキスト行）と titles（パック名）を抽出\n",
    "all_lines = []\n",
    "all_titles = []\n",
    "\n",
    "for url in urls:\n",
    "    response = requests.get(url)\n",
    "    soup = BeautifulSoup(response.text, \"html.parser\")\n",
    "\n",
    "    # 全体のテキストを1行ごとに分割\n",
    "    lines = soup.get_text(separator=\"\\n\").split(\"\\n\")\n",
    "    all_lines.append(lines)\n",
    "\n",
    "    # タイトル（パック名）は <p>タグから抽出（「拡張パック」を含むものすべて対象）\n",
    "    titles = []\n",
    "    for p in soup.find_all(\"p\"):\n",
    "         text = p.get_text(strip=True)\n",
    "         if \"拡張パック\" in text:\n",
    "              titles.append(text.replace(\"■\", \"\").strip())\n",
    " \n",
    "    all_titles.append(titles)"
   ]
  },
  {
   "cell_type": "markdown",
   "id": "b41fe6fe",
   "metadata": {},
   "source": [
    "### 抽出したテキストから、「パック名、発売日、希望小売価格、カード枚数」の情報に切り分ける"
   ]
  },
  {
   "cell_type": "code",
   "execution_count": 3,
   "id": "2734fc2a",
   "metadata": {},
   "outputs": [],
   "source": [
    "data = []\n",
    "\n",
    "# 各ページごとに処理\n",
    "for page_index in range(len(all_lines)):\n",
    "    lines = all_lines[page_index]\n",
    "    titles = all_titles[page_index]\n",
    "    title_index = 0\n",
    "    i = 0\n",
    "\n",
    "    while i < len(lines):\n",
    "        line = lines[i].strip()\n",
    "\n",
    "        if \"発売日\" in line:\n",
    "            release = re.search(r\"発売日[:：]?\\s*(\\d{4}年\\d{1,2}月\\d{1,2}日)\", line)\n",
    "            price   = re.search(r\"希望小売価格[:：]?\\s*([0-9,]+円)\", lines[i+1].strip()) if i+1 < len(lines) else None\n",
    "            count   = re.search(r\"カード[／/]\\s*([0-9]+)枚\", lines[i+2].strip()) if i+2 < len(lines) else None\n",
    "\n",
    "            if release and price and count:\n",
    "                title = titles[title_index] if title_index < len(titles) else \"不明\"\n",
    "                data.append({\n",
    "                    \"パック名\": title,\n",
    "                    \"発売日\": release.group(1),\n",
    "                    \"希望小売価格\": price.group(1),\n",
    "                    \"カード枚数\": count.group(1)\n",
    "                })\n",
    "                title_index += 1\n",
    "                i += 3\n",
    "            else:\n",
    "                i += 1\n",
    "        else:\n",
    "            i += 1"
   ]
  },
  {
   "cell_type": "markdown",
   "id": "0577184c",
   "metadata": {},
   "source": [
    "### 切り分けたデータをデータフレームにまとめて、CSVで出力する"
   ]
  },
  {
   "cell_type": "code",
   "execution_count": 4,
   "id": "a98bcc1d",
   "metadata": {},
   "outputs": [
    {
     "data": {
      "text/html": [
       "<div>\n",
       "<style scoped>\n",
       "    .dataframe tbody tr th:only-of-type {\n",
       "        vertical-align: middle;\n",
       "    }\n",
       "\n",
       "    .dataframe tbody tr th {\n",
       "        vertical-align: top;\n",
       "    }\n",
       "\n",
       "    .dataframe thead th {\n",
       "        text-align: right;\n",
       "    }\n",
       "</style>\n",
       "<table border=\"1\" class=\"dataframe\">\n",
       "  <thead>\n",
       "    <tr style=\"text-align: right;\">\n",
       "      <th></th>\n",
       "      <th>パック名</th>\n",
       "      <th>発売日</th>\n",
       "      <th>希望小売価格</th>\n",
       "      <th>カード枚数</th>\n",
       "    </tr>\n",
       "  </thead>\n",
       "  <tbody>\n",
       "    <tr>\n",
       "      <th>0</th>\n",
       "      <td>第1弾 拡張パック</td>\n",
       "      <td>1996年10月20日</td>\n",
       "      <td>300円</td>\n",
       "      <td>10</td>\n",
       "    </tr>\n",
       "    <tr>\n",
       "      <th>1</th>\n",
       "      <td>第2弾 拡張パック『ポケモンジャングル』</td>\n",
       "      <td>1997年3月5日</td>\n",
       "      <td>300円</td>\n",
       "      <td>10</td>\n",
       "    </tr>\n",
       "    <tr>\n",
       "      <th>2</th>\n",
       "      <td>第3弾 拡張パック『化石の秘密』</td>\n",
       "      <td>1997年6月21日</td>\n",
       "      <td>300円</td>\n",
       "      <td>10</td>\n",
       "    </tr>\n",
       "    <tr>\n",
       "      <th>3</th>\n",
       "      <td>第4弾 拡張パック『ロケット団』</td>\n",
       "      <td>1997年11月21日</td>\n",
       "      <td>300円</td>\n",
       "      <td>10</td>\n",
       "    </tr>\n",
       "    <tr>\n",
       "      <th>4</th>\n",
       "      <td>拡張パック 第1弾『金、銀、新世界へ...』</td>\n",
       "      <td>1998年10月24日</td>\n",
       "      <td>300円</td>\n",
       "      <td>10</td>\n",
       "    </tr>\n",
       "  </tbody>\n",
       "</table>\n",
       "</div>"
      ],
      "text/plain": [
       "                     パック名          発売日 希望小売価格 カード枚数\n",
       "0               第1弾 拡張パック  1996年10月20日   300円    10\n",
       "1    第2弾 拡張パック『ポケモンジャングル』    1997年3月5日   300円    10\n",
       "2        第3弾 拡張パック『化石の秘密』   1997年6月21日   300円    10\n",
       "3        第4弾 拡張パック『ロケット団』  1997年11月21日   300円    10\n",
       "4  拡張パック 第1弾『金、銀、新世界へ...』  1998年10月24日   300円    10"
      ]
     },
     "execution_count": 4,
     "metadata": {},
     "output_type": "execute_result"
    }
   ],
   "source": [
    "df = pd.DataFrame(data)\n",
    "df.to_csv(\"pokemon_cards_with_titles.csv\", index=False, encoding=\"utf-8-sig\")\n",
    "df.head()"
   ]
  }
 ],
 "metadata": {
  "kernelspec": {
   "display_name": "Python 3",
   "language": "python",
   "name": "python3"
  },
  "language_info": {
   "codemirror_mode": {
    "name": "ipython",
    "version": 3
   },
   "file_extension": ".py",
   "mimetype": "text/x-python",
   "name": "python",
   "nbconvert_exporter": "python",
   "pygments_lexer": "ipython3",
   "version": "3.13.3"
  }
 },
 "nbformat": 4,
 "nbformat_minor": 5
}
