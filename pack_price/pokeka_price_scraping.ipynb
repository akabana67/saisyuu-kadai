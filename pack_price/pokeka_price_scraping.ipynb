{
 "cells": [
  {
   "cell_type": "markdown",
   "id": "8dff2c82",
   "metadata": {},
   "source": [
    "### ライブラリのインポート"
   ]
  },
  {
   "cell_type": "code",
   "execution_count": 1,
   "id": "f735447e",
   "metadata": {},
   "outputs": [],
   "source": [
    "import requests\n",
    "from bs4 import BeautifulSoup\n",
    "import re\n",
    "import pandas as pd"
   ]
  },
  {
   "cell_type": "markdown",
   "id": "884a47b0",
   "metadata": {},
   "source": [
    "### HTMLから欲しいテキストを抽出する"
   ]
  },
  {
   "cell_type": "code",
   "execution_count": 2,
   "id": "598315fc",
   "metadata": {},
   "outputs": [],
   "source": [
    "urls = [\n",
    "    \"https://magi.camp/blogs/167305889\",\n",
    "    \"https://magi.camp/blogs/47058427\",  \n",
    "    \"https://magi.camp/blogs/774748184\" \n",
    "]\n",
    "\n",
    "# 取得したテキストをまとめるリスト\n",
    "html_texts = []\n",
    "\n",
    "for url in urls:\n",
    "    response = requests.get(url)\n",
    "    soup = BeautifulSoup(response.text, \"html.parser\")\n",
    "    lines = soup.get_text(separator=\"\\n\").split(\"\\n\")\n",
    "    html_texts.append(lines)"
   ]
  },
  {
   "cell_type": "markdown",
   "id": "7e5aa614",
   "metadata": {},
   "source": [
    "### 抽出したテキストから、「発売日、希望小売価格、カード枚数」を切り分ける"
   ]
  },
  {
   "cell_type": "code",
   "execution_count": 3,
   "id": "96cb2e48",
   "metadata": {},
   "outputs": [],
   "source": [
    "data = []\n",
    "\n",
    "for lines in html_texts:\n",
    "    i = 0\n",
    "    while i < len(lines):\n",
    "        line = lines[i].strip()\n",
    "\n",
    "        if \"発売日\" in line:\n",
    "            release = re.search(r\"発売日[:：]?\\s*(\\d{4}年\\d{1,2}月\\d{1,2}日)\", line)\n",
    "            price   = re.search(r\"希望小売価格[:：]?\\s*([0-9,]+円)\", lines[i+1].strip()) if i+1 < len(lines) else None\n",
    "            count   = re.search(r\"カード[／/]\\s*([0-9]+)枚\", lines[i+2].strip()) if i+2 < len(lines) else None\n",
    "\n",
    "            if release and price and count:\n",
    "                data.append({\n",
    "                    \"発売日\": release.group(1),\n",
    "                    \"希望小売価格\": price.group(1),\n",
    "                    \"カード枚数\": count.group(1)\n",
    "                })\n",
    "                i += 3\n",
    "            else:\n",
    "                i += 1\n",
    "        else:\n",
    "            i += 1"
   ]
  },
  {
   "cell_type": "markdown",
   "id": "03adbcdb",
   "metadata": {},
   "source": [
    "### 切り分けたデータをデータフレームにまとめて、CSVで出力する"
   ]
  },
  {
   "cell_type": "code",
   "execution_count": 5,
   "id": "b29576b7",
   "metadata": {},
   "outputs": [],
   "source": [
    "df = pd.DataFrame(data)\n",
    "df.to_csv(\"pokemon_cards_all_sites.csv\", index=False, encoding=\"utf-8-sig\")"
   ]
  }
 ],
 "metadata": {
  "kernelspec": {
   "display_name": "Python 3",
   "language": "python",
   "name": "python3"
  },
  "language_info": {
   "codemirror_mode": {
    "name": "ipython",
    "version": 3
   },
   "file_extension": ".py",
   "mimetype": "text/x-python",
   "name": "python",
   "nbconvert_exporter": "python",
   "pygments_lexer": "ipython3",
   "version": "3.13.3"
  }
 },
 "nbformat": 4,
 "nbformat_minor": 5
}
