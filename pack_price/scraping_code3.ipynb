{
 "cells": [
  {
   "cell_type": "markdown",
   "id": "9572da13",
   "metadata": {},
   "source": [
    "### 必要なライブラリ等のインポート"
   ]
  },
  {
   "cell_type": "code",
   "execution_count": 5,
   "id": "78406817",
   "metadata": {},
   "outputs": [],
   "source": [
    "import requests\n",
    "from bs4 import BeautifulSoup\n",
    "import pandas as pd\n",
    "import re"
   ]
  },
  {
   "cell_type": "markdown",
   "id": "f3760bbe",
   "metadata": {},
   "source": [
    "### 手順1：HTMLから欲しいテキストを抽出する"
   ]
  },
  {
   "cell_type": "code",
   "execution_count": 6,
   "id": "179a02ce",
   "metadata": {},
   "outputs": [],
   "source": [
    "url = \"https://magi.camp/blogs/167305889\"\n",
    "response = requests.get(url)\n",
    "soup = BeautifulSoup(response.text, \"html.parser\")\n",
    "\n",
    "# ページ全体のテキストを行単位で取得\n",
    "lines = soup.get_text(separator=\"\\n\").split(\"\\n\")"
   ]
  },
  {
   "cell_type": "markdown",
   "id": "4582f92d",
   "metadata": {},
   "source": [
    "### 手順2：抽出したテキストから「発売日・希望小売価格・カード枚数」を切り分ける"
   ]
  },
  {
   "cell_type": "code",
   "execution_count": 7,
   "id": "df882e10",
   "metadata": {},
   "outputs": [],
   "source": [
    "data = []\n",
    "i = 0\n",
    "while i < len(lines):\n",
    "    line = lines[i].strip()\n",
    "    if line.startswith(\"発売日\"):\n",
    "        release = re.search(r\"発売日[:：] ?(\\d{4}年\\d{1,2}月\\d{1,2}日)\", line)\n",
    "        price = re.search(r\"([0-9,]+円)\", lines[i+1]) if i+1 < len(lines) else None\n",
    "        count = re.search(r\"カード[／/]([0-9]+)枚\", lines[i+2]) if i+2 < len(lines) else None\n",
    "\n",
    "        if release and price and count:\n",
    "            data.append({\n",
    "                \"発売日\": release.group(1),\n",
    "                \"希望小売価格\": price.group(1),\n",
    "                \"カード枚数\": count.group(1)\n",
    "            })\n",
    "            i += 3  # 次のセットへ\n",
    "        else:\n",
    "            i += 1  # マッチしなければ次行へ\n",
    "    else:\n",
    "        i += 1"
   ]
  },
  {
   "cell_type": "markdown",
   "id": "40273993",
   "metadata": {},
   "source": [
    "### 手順3：切り分けたデータをデータフレームにまとめて、CSVで出力する"
   ]
  },
  {
   "cell_type": "code",
   "execution_count": 8,
   "id": "386b7be9",
   "metadata": {},
   "outputs": [
    {
     "data": {
      "text/html": [
       "<div>\n",
       "<style scoped>\n",
       "    .dataframe tbody tr th:only-of-type {\n",
       "        vertical-align: middle;\n",
       "    }\n",
       "\n",
       "    .dataframe tbody tr th {\n",
       "        vertical-align: top;\n",
       "    }\n",
       "\n",
       "    .dataframe thead th {\n",
       "        text-align: right;\n",
       "    }\n",
       "</style>\n",
       "<table border=\"1\" class=\"dataframe\">\n",
       "  <thead>\n",
       "    <tr style=\"text-align: right;\">\n",
       "      <th></th>\n",
       "      <th>発売日</th>\n",
       "      <th>希望小売価格</th>\n",
       "      <th>カード枚数</th>\n",
       "    </tr>\n",
       "  </thead>\n",
       "  <tbody>\n",
       "    <tr>\n",
       "      <th>0</th>\n",
       "      <td>1996年10月20日</td>\n",
       "      <td>300円</td>\n",
       "      <td>10</td>\n",
       "    </tr>\n",
       "    <tr>\n",
       "      <th>1</th>\n",
       "      <td>1997年3月5日</td>\n",
       "      <td>300円</td>\n",
       "      <td>10</td>\n",
       "    </tr>\n",
       "    <tr>\n",
       "      <th>2</th>\n",
       "      <td>1997年6月21日</td>\n",
       "      <td>300円</td>\n",
       "      <td>10</td>\n",
       "    </tr>\n",
       "    <tr>\n",
       "      <th>3</th>\n",
       "      <td>1997年11月21日</td>\n",
       "      <td>300円</td>\n",
       "      <td>10</td>\n",
       "    </tr>\n",
       "    <tr>\n",
       "      <th>4</th>\n",
       "      <td>1998年10月24日</td>\n",
       "      <td>300円</td>\n",
       "      <td>10</td>\n",
       "    </tr>\n",
       "  </tbody>\n",
       "</table>\n",
       "</div>"
      ],
      "text/plain": [
       "           発売日 希望小売価格 カード枚数\n",
       "0  1996年10月20日   300円    10\n",
       "1    1997年3月5日   300円    10\n",
       "2   1997年6月21日   300円    10\n",
       "3  1997年11月21日   300円    10\n",
       "4  1998年10月24日   300円    10"
      ]
     },
     "execution_count": 8,
     "metadata": {},
     "output_type": "execute_result"
    }
   ],
   "source": [
    "df = pd.DataFrame(data)\n",
    "df.to_csv(\"pokemon_card_data.csv\", index=False, encoding=\"utf-8-sig\")\n",
    "df.head()  "
   ]
  }
 ],
 "metadata": {
  "kernelspec": {
   "display_name": "Python 3",
   "language": "python",
   "name": "python3"
  },
  "language_info": {
   "codemirror_mode": {
    "name": "ipython",
    "version": 3
   },
   "file_extension": ".py",
   "mimetype": "text/x-python",
   "name": "python",
   "nbconvert_exporter": "python",
   "pygments_lexer": "ipython3",
   "version": "3.13.3"
  }
 },
 "nbformat": 4,
 "nbformat_minor": 5
}
