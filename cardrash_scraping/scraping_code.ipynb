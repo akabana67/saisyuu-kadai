{
 "cells": [
  {
   "cell_type": "code",
   "execution_count": 2,
   "id": "a184dd1f",
   "metadata": {},
   "outputs": [
    {
     "name": "stdout",
     "output_type": "stream",
     "text": [
      "                                    カード名/商品名        買取価格\n",
      "0    ポケモンカードゲーム 20周年記念 ロケット団スペシャルケース(未開封BOX)  ¥1,100,000\n",
      "1                         マリオピカチュウ(スペシャルBOX)  ¥1,100,000\n",
      "2                レックウザポンチョを着たピカチュウ(スペシャルBOX)    ¥950,000\n",
      "3            メガリザードンXのポンチョを着たピカチュウ(スペシャルBOX)    ¥850,000\n",
      "4           コイキングごっこ＆ギャラドスごっこピカチュウ(スペシャルBOX)    ¥800,000\n",
      "..                                       ...         ...\n",
      "415       バトルマスターデッキ 『テラスタル リザードンex』(未開封BOX)      ¥1,200\n",
      "416      スターターデッキ＆ビルドセット『古代のコライドンex』(未開封BOX)      ¥1,000\n",
      "417      スターターデッキ＆ビルドセット『未来のミライドンex』(未開封BOX)      ¥1,000\n",
      "418            スペシャルジャンボカードセット オーガポン(未開封BOX)      ¥1,000\n",
      "423             バトルマスターデッキ 『パオジアンex』(未開封BOX)        ¥700\n",
      "\n",
      "[180 rows x 2 columns]\n",
      "\n",
      "該当商品数: 180 件\n"
     ]
    }
   ],
   "source": [
    "import pandas as pd\n",
    "\n",
    "url = 'https://cardrush.media/pokemon/buying_prices?displayMode=%E3%83%AA%E3%82%B9%E3%83%88&limit=500&name=&rarity=&model_number=&amount=&page=1&sort%5Bkey%5D=amount&sort%5Border%5D=desc&associations%5B%5D=ocha_product&to_json_option%5Bexcept%5D%5B%5D=original_image_source&to_json_option%5Bexcept%5D%5B%5D=created_at&to_json_option%5Binclude%5D%5Bocha_product%5D%5Bonly%5D%5B%5D=id&to_json_option%5Binclude%5D%5Bocha_product%5D%5Bmethods%5D%5B%5D=image_source&pack_code=&element=&pack_name=&display_category=%E3%83%91%E3%83%83%E3%82%AF&is_hot%5B%5D=true&is_hot%5B%5D=false'\n",
    "\n",
    "try:\n",
    "    dfs = pd.read_html(url)\n",
    "    df = dfs[0]\n",
    "\n",
    "    # 「未開封BOX」または「スペシャルBOX」を含む行のみ抽出\n",
    "    filtered_df = df[df['カード名/商品名'].str.contains('未開封BOX|スペシャルBOX', na=False)]\n",
    "\n",
    "    print(filtered_df)\n",
    "    print(f\"\\n該当商品数: {len(filtered_df)} 件\")\n",
    "\n",
    "    #　CSVに保存\n",
    "    filtered_df.to_csv(\"BOX_only.csv\", index=False, encoding='utf-8-sig')\n",
    "\n",
    "except Exception as e:\n",
    "    print(f\"エラーが発生: {e}\")\n"
   ]
  },
  {
   "cell_type": "code",
   "execution_count": 3,
   "id": "4983791f",
   "metadata": {},
   "outputs": [
    {
     "name": "stdout",
     "output_type": "stream",
     "text": [
      "                              カード名/商品名      買取価格\n",
      "16                      ギフトパック(未開封パック)  ¥350,000\n",
      "29            クイックスターター ギフトパック(未開封パック)  ¥200,000\n",
      "34                ロケット団 ギフトパック(未開封パック)  ¥170,000\n",
      "38                第1弾 スターターパック(未開封パック)  ¥160,000\n",
      "39                   劇場限定VSパック(未開封パック)  ¥150,000\n",
      "..                                 ...       ...\n",
      "426    対戦スターターパック ブーバーンVSエレキブル(未開封パック)      ¥500\n",
      "427    対戦スターターパック ヒードランVSレジギガス(未開封パック)      ¥500\n",
      "428    対戦スターターパック ギラティナVSディアルガ(未開封パック)      ¥500\n",
      "429  対戦スターターパックSP ゴウカザルVSエルレイド(未開封パック)      ¥500\n",
      "430  構築スタンダードデッキ アルセウスLV.X 草&炎(未開封パック)      ¥500\n",
      "\n",
      "[228 rows x 2 columns]\n",
      "\n",
      "該当商品数: 228 件\n"
     ]
    }
   ],
   "source": [
    "import pandas as pd\n",
    "\n",
    "url = 'https://cardrush.media/pokemon/buying_prices?displayMode=%E3%83%AA%E3%82%B9%E3%83%88&limit=500&name=&rarity=&model_number=&amount=&page=1&sort%5Bkey%5D=amount&sort%5Border%5D=desc&associations%5B%5D=ocha_product&to_json_option%5Bexcept%5D%5B%5D=original_image_source&to_json_option%5Bexcept%5D%5B%5D=created_at&to_json_option%5Binclude%5D%5Bocha_product%5D%5Bonly%5D%5B%5D=id&to_json_option%5Binclude%5D%5Bocha_product%5D%5Bmethods%5D%5B%5D=image_source&pack_code=&element=&pack_name=&display_category=%E3%83%91%E3%83%83%E3%82%AF&is_hot%5B%5D=true&is_hot%5B%5D=false'\n",
    "\n",
    "try:\n",
    "    dfs = pd.read_html(url)\n",
    "    df = dfs[0]\n",
    "\n",
    "    # 「未開封パック」を含む行のみ抽出\n",
    "    filtered_df = df[df['カード名/商品名'].str.contains('未開封パック', na=False)]\n",
    "\n",
    "    print(filtered_df)\n",
    "    print(f\"\\n該当商品数: {len(filtered_df)} 件\")\n",
    "\n",
    "    #　CSVに保存\n",
    "    filtered_df.to_csv(\"pack_only.csv\", index=False, encoding='utf-8-sig')\n",
    "\n",
    "except Exception as e:\n",
    "    print(f\"エラーが発生: {e}\")"
   ]
  }
 ],
 "metadata": {
  "kernelspec": {
   "display_name": "Python 3",
   "language": "python",
   "name": "python3"
  },
  "language_info": {
   "codemirror_mode": {
    "name": "ipython",
    "version": 3
   },
   "file_extension": ".py",
   "mimetype": "text/x-python",
   "name": "python",
   "nbconvert_exporter": "python",
   "pygments_lexer": "ipython3",
   "version": "3.13.3"
  }
 },
 "nbformat": 4,
 "nbformat_minor": 5
}
