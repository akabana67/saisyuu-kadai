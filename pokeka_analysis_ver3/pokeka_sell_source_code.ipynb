{
 "cells": [
  {
   "cell_type": "markdown",
   "id": "f9ba8617",
   "metadata": {},
   "source": [
    "## 欠損値補完用データの提示\n",
    "- 対象ファイル：[merged_data.csv](merged_data.csv)\n",
    "- 欠損：行87-115の買取価格\n",
    "- ソース：行88,93,97 → [もえたく!](https://www.netoff.co.jp/moetaku/tcg/pokemon_card/) より該当部分をpng保存\n",
    "- 行88:[コレクション ムーン](88_collection_moon_box_price.png) / 行93:[闘う虹を見たか](93_tatakauniji_box_price.png) / 行97:[超次元の暴獣](97_choujigenn_box_price.png)\n",
    "\n",
    "- それ以外の行→[ラッシュメディア](https://cardrush.media/pokemon/buying_prices?displayMode=%E3%83%AA%E3%82%B9%E3%83%88&limit=500&name=&rarity=&model_number=&amount=&page=1&sort%5Bkey%5D=amount&sort%5Border%5D=desc&associations%5B%5D=ocha_product&to_json_option%5Bexcept%5D%5B%5D=original_image_source&to_json_option%5Bexcept%5D%5B%5D=created_at&to_json_option%5Binclude%5D%5Bocha_product%5D%5Bonly%5D%5B%5D=id&to_json_option%5Binclude%5D%5Bocha_product%5D%5Bmethods%5D%5B%5D=image_source&pack_code=&element=&pack_name=&display_category=%E3%83%91%E3%83%83%E3%82%AF&is_hot%5B%5D=true&is_hot%5B%5D=false) よりwebスクレイピングで補完用データ抽出\n",
    "- 保存先：[pokeka_sell_source.csv](pokeka_sell_source.csv)\n"
   ]
  },
  {
   "cell_type": "markdown",
   "id": "70bd210a",
   "metadata": {},
   "source": [
    "#### ライブラリのインポート"
   ]
  },
  {
   "cell_type": "code",
   "execution_count": 16,
   "id": "5f52956d",
   "metadata": {},
   "outputs": [],
   "source": [
    "import pandas as pd\n",
    "import re"
   ]
  },
  {
   "cell_type": "markdown",
   "id": "921787d4",
   "metadata": {},
   "source": [
    "#### 元データ`merged_data.csv`の読み込みとパック名の抽出"
   ]
  },
  {
   "cell_type": "code",
   "execution_count": 17,
   "id": "993d2605",
   "metadata": {},
   "outputs": [
    {
     "name": "stdout",
     "output_type": "stream",
     "text": [
      "['コレクション サン', 'コレクション ムーン', 'サン＆ムーン', 'キミを待つ島々', 'アローラの月光', '新たなる試練の向こう', '闘う虹を見たか', '光を喰らう闇', 'ひかる伝説', '覚醒の勇者', '超次元の暴獣', 'GXバトルブースト', 'ウルトラサン', 'ウルトラムーン', 'ウルトラフォース', '禁断の光', 'ドラゴンストーム', 'チャンピオンロード', '裂空のカリスマ', '迅雷スパーク', 'フェアリーライズ', '超爆インパクト', 'ダークオーダー', 'GXウルトラシャイニー', 'タッグボルト', 'ナイトユニゾン', 'フルメタルウォール', 'ダブルブレイズ', '名探偵ピカチュウ']\n"
     ]
    }
   ],
   "source": [
    "# CSVファイルの読み込み\n",
    "df = pd.read_csv(\"merged_data.csv\")\n",
    "\n",
    "# 85行目以降の「パック名」列を抽出\n",
    "pack_column = df.loc[85:, \"パック名\"].dropna()\n",
    "\n",
    "# 『』内の文字列を抽出\n",
    "extracted_titles = pack_column.apply(\n",
    "    lambda x: re.search(r\"『(.*?)』\", x).group(1) if re.search(r\"『(.*?)』\", x) else None\n",
    ")\n",
    "\n",
    "# nullを除いてリスト化\n",
    "title_list = extracted_titles.dropna().tolist()\n",
    "\n",
    "# 抽出されたパック名の確認\n",
    "print(title_list)"
   ]
  },
  {
   "cell_type": "markdown",
   "id": "98fbacba",
   "metadata": {},
   "source": [
    "#### BOX買取データ`BOX_only.csv`の読み込み"
   ]
  },
  {
   "cell_type": "code",
   "execution_count": 18,
   "id": "0df35b62",
   "metadata": {},
   "outputs": [
    {
     "name": "stdout",
     "output_type": "stream",
     "text": [
      "Index(['カード名/商品名', '買取価格'], dtype='object')\n"
     ]
    }
   ],
   "source": [
    "# BOX買取データの読み込み\n",
    "box_df = pd.read_csv(\"BOX_only.csv\")\n",
    "\n",
    "# カラム名確認\n",
    "print(box_df.columns)"
   ]
  },
  {
   "cell_type": "markdown",
   "id": "9fca69aa",
   "metadata": {},
   "source": [
    "#### パック名に一致する行の抽出"
   ]
  },
  {
   "cell_type": "code",
   "execution_count": 19,
   "id": "bd6ee767",
   "metadata": {},
   "outputs": [
    {
     "data": {
      "text/html": [
       "<div>\n",
       "<style scoped>\n",
       "    .dataframe tbody tr th:only-of-type {\n",
       "        vertical-align: middle;\n",
       "    }\n",
       "\n",
       "    .dataframe tbody tr th {\n",
       "        vertical-align: top;\n",
       "    }\n",
       "\n",
       "    .dataframe thead th {\n",
       "        text-align: right;\n",
       "    }\n",
       "</style>\n",
       "<table border=\"1\" class=\"dataframe\">\n",
       "  <thead>\n",
       "    <tr style=\"text-align: right;\">\n",
       "      <th></th>\n",
       "      <th>カード名/商品名</th>\n",
       "      <th>買取価格</th>\n",
       "    </tr>\n",
       "  </thead>\n",
       "  <tbody>\n",
       "    <tr>\n",
       "      <th>0</th>\n",
       "      <td>ハイクラスパック『GXバトルブースト』(未開封BOX)</td>\n",
       "      <td>¥500,000</td>\n",
       "    </tr>\n",
       "    <tr>\n",
       "      <th>1</th>\n",
       "      <td>裂空のカリスマ(ポケモンセンター限定セット)(未開封BOX)</td>\n",
       "      <td>¥450,000</td>\n",
       "    </tr>\n",
       "    <tr>\n",
       "      <th>2</th>\n",
       "      <td>強化拡張パック『新たなる試練の向こう』(未開封BOX)</td>\n",
       "      <td>¥300,000</td>\n",
       "    </tr>\n",
       "    <tr>\n",
       "      <th>3</th>\n",
       "      <td>タッグボルト(ポケモンセンター限定セット)(未開封BOX)</td>\n",
       "      <td>¥230,000</td>\n",
       "    </tr>\n",
       "    <tr>\n",
       "      <th>4</th>\n",
       "      <td>強化拡張パック『ひかる伝説』(未開封BOX)</td>\n",
       "      <td>¥170,000</td>\n",
       "    </tr>\n",
       "  </tbody>\n",
       "</table>\n",
       "</div>"
      ],
      "text/plain": [
       "                         カード名/商品名      買取価格\n",
       "0     ハイクラスパック『GXバトルブースト』(未開封BOX)  ¥500,000\n",
       "1  裂空のカリスマ(ポケモンセンター限定セット)(未開封BOX)  ¥450,000\n",
       "2     強化拡張パック『新たなる試練の向こう』(未開封BOX)  ¥300,000\n",
       "3   タッグボルト(ポケモンセンター限定セット)(未開封BOX)  ¥230,000\n",
       "4          強化拡張パック『ひかる伝説』(未開封BOX)  ¥170,000"
      ]
     },
     "execution_count": 19,
     "metadata": {},
     "output_type": "execute_result"
    }
   ],
   "source": [
    "# 対象パック名を含む行だけを抽出\n",
    "filtered_df = box_df[box_df[\"カード名/商品名\"].apply(\n",
    "    lambda x: any(name in x for name in title_list))\n",
    "].reset_index(drop=True)\n",
    "\n",
    "# 必要なカラムだけに絞る\n",
    "filtered_df = filtered_df[[\"カード名/商品名\", \"買取価格\"]]\n",
    "\n",
    "# 抽出結果の確認\n",
    "filtered_df.head()"
   ]
  },
  {
   "cell_type": "markdown",
   "id": "20b2e0cd",
   "metadata": {},
   "source": [
    "#### さらに特定の文字列を含む行を除外"
   ]
  },
  {
   "cell_type": "code",
   "execution_count": 20,
   "id": "451d9625",
   "metadata": {},
   "outputs": [
    {
     "data": {
      "text/html": [
       "<div>\n",
       "<style scoped>\n",
       "    .dataframe tbody tr th:only-of-type {\n",
       "        vertical-align: middle;\n",
       "    }\n",
       "\n",
       "    .dataframe tbody tr th {\n",
       "        vertical-align: top;\n",
       "    }\n",
       "\n",
       "    .dataframe thead th {\n",
       "        text-align: right;\n",
       "    }\n",
       "</style>\n",
       "<table border=\"1\" class=\"dataframe\">\n",
       "  <thead>\n",
       "    <tr style=\"text-align: right;\">\n",
       "      <th></th>\n",
       "      <th>カード名/商品名</th>\n",
       "      <th>買取価格</th>\n",
       "    </tr>\n",
       "  </thead>\n",
       "  <tbody>\n",
       "    <tr>\n",
       "      <th>0</th>\n",
       "      <td>ハイクラスパック『GXバトルブースト』(未開封BOX)</td>\n",
       "      <td>¥500,000</td>\n",
       "    </tr>\n",
       "    <tr>\n",
       "      <th>2</th>\n",
       "      <td>強化拡張パック『新たなる試練の向こう』(未開封BOX)</td>\n",
       "      <td>¥300,000</td>\n",
       "    </tr>\n",
       "    <tr>\n",
       "      <th>4</th>\n",
       "      <td>強化拡張パック『ひかる伝説』(未開封BOX)</td>\n",
       "      <td>¥170,000</td>\n",
       "    </tr>\n",
       "    <tr>\n",
       "      <th>5</th>\n",
       "      <td>拡張パック『アローラの月光』(未開封BOX)</td>\n",
       "      <td>¥130,000</td>\n",
       "    </tr>\n",
       "    <tr>\n",
       "      <th>6</th>\n",
       "      <td>拡張パック『裂空のカリスマ』(未開封BOX)</td>\n",
       "      <td>¥130,000</td>\n",
       "    </tr>\n",
       "  </tbody>\n",
       "</table>\n",
       "</div>"
      ],
      "text/plain": [
       "                      カード名/商品名      買取価格\n",
       "0  ハイクラスパック『GXバトルブースト』(未開封BOX)  ¥500,000\n",
       "2  強化拡張パック『新たなる試練の向こう』(未開封BOX)  ¥300,000\n",
       "4       強化拡張パック『ひかる伝説』(未開封BOX)  ¥170,000\n",
       "5       拡張パック『アローラの月光』(未開封BOX)  ¥130,000\n",
       "6       拡張パック『裂空のカリスマ』(未開封BOX)  ¥130,000"
      ]
     },
     "execution_count": 20,
     "metadata": {},
     "output_type": "execute_result"
    }
   ],
   "source": [
    "# 「ポケモンセンター限定セット」を含む行を除外\n",
    "final_df = filtered_df[~filtered_df[\"カード名/商品名\"].str.contains(\"ポケモンセンター限定セット\", na=False)]\n",
    "\n",
    "# 結果確認\n",
    "final_df.head()"
   ]
  },
  {
   "cell_type": "markdown",
   "id": "46148224",
   "metadata": {},
   "source": [
    "#### CSV保存"
   ]
  },
  {
   "cell_type": "code",
   "execution_count": 22,
   "id": "57e79898",
   "metadata": {},
   "outputs": [],
   "source": [
    "final_df.to_csv(\"pokeka_sell_source.csv\", index=False, encoding=\"utf-8-sig\")"
   ]
  }
 ],
 "metadata": {
  "kernelspec": {
   "display_name": "Python 3",
   "language": "python",
   "name": "python3"
  },
  "language_info": {
   "codemirror_mode": {
    "name": "ipython",
    "version": 3
   },
   "file_extension": ".py",
   "mimetype": "text/x-python",
   "name": "python",
   "nbconvert_exporter": "python",
   "pygments_lexer": "ipython3",
   "version": "3.13.3"
  }
 },
 "nbformat": 4,
 "nbformat_minor": 5
}
