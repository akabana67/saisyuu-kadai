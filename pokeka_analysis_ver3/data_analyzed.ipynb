{
 "cells": [
  {
   "cell_type": "markdown",
   "id": "b7c69f34",
   "metadata": {},
   "source": [
    "### ポケモンカードデータについて"
   ]
  },
  {
   "cell_type": "markdown",
   "id": "f7bc076d",
   "metadata": {},
   "source": [
    "#### 1.小売価格データ(pokemon_cards_with_titles.csv)の前処理：2つの商品が1行で書かれている行31,48 を2行に分離してpokemon_cards_with_titles_cleansing.csvとして保存"
   ]
  },
  {
   "cell_type": "code",
   "execution_count": null,
   "id": "8560691c",
   "metadata": {},
   "outputs": [],
   "source": []
  },
  {
   "cell_type": "markdown",
   "id": "d5e942c9",
   "metadata": {},
   "source": [
    "#### 2.買取価格データ(pack_only.csv)の前処理：まずパック名について不要な文字列を指定してフィルタリングしfiltered_pack_only.csvとして保存，その後データを結合させるために同一商品のパック名を小売価格データと一致させ，filtered_pack_only_cleansing.csvとして保存"
   ]
  },
  {
   "cell_type": "markdown",
   "id": "642ad52a",
   "metadata": {},
   "source": [
    "##### ライブラリのインポート"
   ]
  },
  {
   "cell_type": "code",
   "execution_count": 1,
   "id": "a8be74b9",
   "metadata": {},
   "outputs": [],
   "source": [
    "import pandas as pd"
   ]
  },
  {
   "cell_type": "markdown",
   "id": "5df0bfc3",
   "metadata": {},
   "source": [
    "##### CSVファイルの読み込み"
   ]
  },
  {
   "cell_type": "code",
   "execution_count": 2,
   "id": "318d4d5c",
   "metadata": {},
   "outputs": [],
   "source": [
    "file_path = \"pack_only.csv\"\n",
    "df = pd.read_csv(file_path)"
   ]
  },
  {
   "cell_type": "markdown",
   "id": "6abba8a1",
   "metadata": {},
   "source": [
    "##### 除外するキーワードリストの定義"
   ]
  },
  {
   "cell_type": "code",
   "execution_count": 3,
   "id": "59ae4147",
   "metadata": {},
   "outputs": [],
   "source": [
    "exclude_keywords = [\n",
    "    'ギフトパック', 'スターターパック', 'VSパック', '構築',\n",
    "    'コレクションシート', 'デッキ', 'スペシャル', 'プレミアム',\n",
    "    'サザンアイランド', '映画', 'タイプユニット'\n",
    "]\n",
    "\n",
    "pattern = '|'.join(exclude_keywords)"
   ]
  },
  {
   "cell_type": "markdown",
   "id": "5da653bd",
   "metadata": {},
   "source": [
    "##### フィルタ処理の実行とCSVファイルへの保存"
   ]
  },
  {
   "cell_type": "code",
   "execution_count": 4,
   "id": "1dca4a90",
   "metadata": {},
   "outputs": [],
   "source": [
    "filtered_df = df[~df['カード名/商品名'].str.contains(pattern, na=False)]\n",
    "output_path = \"filtered_pack_only.csv\"\n",
    "filtered_df.to_csv(output_path, index=False, encoding='utf-8-sig')"
   ]
  },
  {
   "cell_type": "markdown",
   "id": "28bd5adb",
   "metadata": {},
   "source": [
    "#### 3.前処理した2つのCSVファイルを結合し，merged_data.csvとして保存"
   ]
  },
  {
   "cell_type": "markdown",
   "id": "9c813b17",
   "metadata": {},
   "source": [
    "##### CSVファイルの読み込み"
   ]
  },
  {
   "cell_type": "code",
   "execution_count": 5,
   "id": "3a614476",
   "metadata": {},
   "outputs": [],
   "source": [
    "df1 = pd.read_csv(\"pokemon_cards_with_titles_cleansing.csv\")\n",
    "df2 = pd.read_csv(\"filtered_pack_only_cleansing.csv\")"
   ]
  },
  {
   "cell_type": "markdown",
   "id": "e39036c8",
   "metadata": {},
   "source": [
    "##### パック名で結合"
   ]
  },
  {
   "cell_type": "code",
   "execution_count": 6,
   "id": "5473afb9",
   "metadata": {},
   "outputs": [],
   "source": [
    "merged_df = pd.merge(df1, df2, on=\"パック名\", how=\"left\")"
   ]
  },
  {
   "cell_type": "markdown",
   "id": "b81b4181",
   "metadata": {},
   "source": [
    "##### 列の順番を並び変える"
   ]
  },
  {
   "cell_type": "code",
   "execution_count": 7,
   "id": "ae9e1865",
   "metadata": {},
   "outputs": [],
   "source": [
    "desired_order = [\"パック名\", \"発売日\", \"希望小売価格\", \"買取価格\", \"カード枚数\"]\n",
    "merged_df = merged_df[desired_order]"
   ]
  },
  {
   "cell_type": "markdown",
   "id": "2cd07c1a",
   "metadata": {},
   "source": [
    "##### CSVとして保存"
   ]
  },
  {
   "cell_type": "code",
   "execution_count": 8,
   "id": "4c55184b",
   "metadata": {},
   "outputs": [],
   "source": [
    "output_filename = \"merged_data.csv\"\n",
    "merged_df.to_csv(output_filename, index=False, encoding=\"utf-8-sig\")"
   ]
  },
  {
   "cell_type": "markdown",
   "id": "ea0836e6",
   "metadata": {},
   "source": [
    "#### 4.マージしたファイルの欠損値(買取価格)の補完：欠損データには2種類存在し，種類ごとに次のように補完しmerged_data_all.csvとして保存\n",
    "##### 4.1 該当商品のBOXデータに限りカードラッシュに買取価格が存在する場合：BOX価格/パック数により，疑似的な1パックの価格を算出し入力(小数点切捨)\n",
    "##### 4.2 カードラッシュに価格データが存在しない場合：別サイトの買取価格を参照し入力"
   ]
  },
  {
   "cell_type": "markdown",
   "id": "c43235c6",
   "metadata": {},
   "source": [
    "### 貴金属（金/銀/プラチナ）データについて"
   ]
  },
  {
   "cell_type": "markdown",
   "id": "342c5861",
   "metadata": {},
   "source": [
    "#### Investing.comより1996/11/01-2025/05/01までの月次データをそれぞれgold_data.csv, silver_data.csv, plutinum_data.csv として保存"
   ]
  },
  {
   "cell_type": "markdown",
   "id": "a9ae6acf",
   "metadata": {},
   "source": [
    "#### 5.ポケモンカード及び貴金属データのROI/CAGR計算と可視化"
   ]
  },
  {
   "cell_type": "markdown",
   "id": "c31cd6e8",
   "metadata": {},
   "source": [
    "##### ライブラリのインポートとフォント設定"
   ]
  },
  {
   "cell_type": "code",
   "execution_count": 9,
   "id": "688af63a",
   "metadata": {},
   "outputs": [],
   "source": [
    "import matplotlib.pyplot as plt\n",
    "from datetime import datetime\n",
    "\n",
    "plt.rcParams['font.family'] = 'Meiryo' "
   ]
  },
  {
   "cell_type": "markdown",
   "id": "29b6e27d",
   "metadata": {},
   "source": [
    "##### ポケモンカードデータ読み込みと前処理"
   ]
  },
  {
   "cell_type": "code",
   "execution_count": 11,
   "id": "b398365d",
   "metadata": {},
   "outputs": [],
   "source": [
    "poke_df = pd.read_csv(\"merged_data_all.csv\")\n",
    "\n",
    "poke_df[\"発売日\"] = pd.to_datetime(poke_df[\"発売日\"], format=\"%Y年%m月%d日\", errors='coerce')\n",
    "poke_df[\"希望小売価格\"] = poke_df[\"希望小売価格\"].astype(str).str.replace(\"円\", \"\").str.replace(\",\", \"\").astype(float)\n",
    "poke_df[\"買取価格\"] = poke_df[\"買取価格\"].astype(str).str.replace(\"¥\", \"\").str.replace(\",\", \"\").astype(float)"
   ]
  },
  {
   "cell_type": "markdown",
   "id": "4d83f9c3",
   "metadata": {},
   "source": [
    "##### ポケモンカードデータのROI/CAGRの計算"
   ]
  },
  {
   "cell_type": "code",
   "execution_count": 12,
   "id": "e0b49e68",
   "metadata": {},
   "outputs": [],
   "source": [
    "today = datetime.today()\n",
    "\n",
    "poke_df[\"経過年数\"] = (today - poke_df[\"発売日\"]).dt.days / 365.25\n",
    "poke_df[\"ROI\"] = (poke_df[\"買取価格\"] - poke_df[\"希望小売価格\"]) / poke_df[\"希望小売価格\"]\n",
    "poke_df[\"CAGR\"] = (poke_df[\"買取価格\"] / poke_df[\"希望小売価格\"]) ** (1 / poke_df[\"経過年数\"]) - 1\n",
    "\n",
    "# 平均 ROI（倍率）と CAGR（年利）\n",
    "poke_mean_roi = poke_df[\"ROI\"].mean()\n",
    "poke_mean_cagr = poke_df[\"CAGR\"].mean()"
   ]
  },
  {
   "cell_type": "markdown",
   "id": "224590a0",
   "metadata": {},
   "source": [
    "##### 貴金属データの読み込み関数の定義と取得"
   ]
  },
  {
   "cell_type": "code",
   "execution_count": 13,
   "id": "4055c6d0",
   "metadata": {},
   "outputs": [],
   "source": [
    "def load_and_calc_cagr(csv_path):\n",
    "    df = pd.read_csv(csv_path)\n",
    "    df[\"日付け\"] = pd.to_datetime(df[\"日付け\"])\n",
    "    df[\"終値\"] = df[\"終値\"].astype(str).str.replace(\",\", \"\").astype(float)\n",
    "    df_sorted = df.sort_values(\"日付け\")\n",
    "    \n",
    "    start_price = df_sorted.iloc[0][\"終値\"]\n",
    "    end_price = df_sorted.iloc[-1][\"終値\"]\n",
    "    years = (df_sorted.iloc[-1][\"日付け\"] - df_sorted.iloc[0][\"日付け\"]).days / 365.25\n",
    "    \n",
    "    roi = (end_price - start_price) / start_price\n",
    "    cagr = (end_price / start_price) ** (1 / years) - 1\n",
    "    return roi, cagr\n",
    "\n",
    "# 各金属のデータ取得\n",
    "gold_roi, gold_cagr = load_and_calc_cagr(\"gold_data.csv\")\n",
    "silver_roi, silver_cagr = load_and_calc_cagr(\"silver_data.csv\")\n",
    "platinum_roi, platinum_cagr = load_and_calc_cagr(\"platinum_data.csv\")"
   ]
  },
  {
   "cell_type": "markdown",
   "id": "c9041daa",
   "metadata": {},
   "source": [
    "##### データの統合と可視化"
   ]
  },
  {
   "cell_type": "code",
   "execution_count": 14,
   "id": "b006bd7d",
   "metadata": {},
   "outputs": [
    {
     "data": {
      "image/png": "[encoded data removed]",
      "text/plain": [
       "<Figure size 1000x800 with 2 Axes>"
      ]
     },
     "metadata": {},
     "output_type": "display_data"
    }
   ],
   "source": [
    "# 表示データまとめ\n",
    "labels = [\"金\", \"銀\", \"プラチナ\", \"ポケモンカード\"]\n",
    "roi_values = [gold_roi, silver_roi, platinum_roi, poke_mean_roi]\n",
    "cagr_values = [gold_cagr, silver_cagr, platinum_cagr, poke_mean_cagr]\n",
    "\n",
    "# 棒グラフ（上下2段）\n",
    "fig, axes = plt.subplots(2, 1, figsize=(10, 8))\n",
    "\n",
    "# ROI（倍率）\n",
    "axes[0].bar(labels, roi_values, color='skyblue')\n",
    "axes[0].set_title(\"ROI（総合利益率）\", fontsize=14)\n",
    "axes[0].set_ylabel(\"倍率\", fontsize=12)\n",
    "axes[0].grid(True, axis='y', linestyle='--', alpha=0.7)\n",
    "\n",
    "# CAGR（年利）\n",
    "axes[1].bar(labels, cagr_values, color='salmon')\n",
    "axes[1].set_title(\"CAGR（年平均成長率）\", fontsize=14)\n",
    "axes[1].set_ylabel(\"年利\", fontsize=12)\n",
    "axes[1].grid(True, axis='y', linestyle='--', alpha=0.7)\n",
    "\n",
    "plt.tight_layout()\n",
    "plt.show()"
   ]
  }
 ],
 "metadata": {
  "kernelspec": {
   "display_name": "Python 3",
   "language": "python",
   "name": "python3"
  },
  "language_info": {
   "codemirror_mode": {
    "name": "ipython",
    "version": 3
   },
   "file_extension": ".py",
   "mimetype": "text/x-python",
   "name": "python",
   "nbconvert_exporter": "python",
   "pygments_lexer": "ipython3",
   "version": "3.13.3"
  }
 },
 "nbformat": 4,
 "nbformat_minor": 5
}
