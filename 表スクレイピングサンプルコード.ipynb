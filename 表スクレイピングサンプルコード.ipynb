{
  "nbformat": 4,
  "nbformat_minor": 0,
  "metadata": {
    "colab": {
      "provenance": []
    },
    "kernelspec": {
      "name": "python3",
      "display_name": "Python 3"
    },
    "language_info": {
      "name": "python"
    }
  },
  "cells": [
    {
      "cell_type": "code",
      "execution_count": 1,
      "metadata": {
        "colab": {
          "base_uri": "https://localhost:8080/"
        },
        "id": "pFutbgjjEfIB",
        "outputId": "005de06e-dd4a-478d-d8b4-e78aa5949bd9"
      },
      "outputs": [
        {
          "output_type": "stream",
          "name": "stderr",
          "text": [
            "<ipython-input-1-f77a67c4985b>:17: SettingWithCopyWarning: \n",
            "A value is trying to be set on a copy of a slice from a DataFrame.\n",
            "Try using .loc[row_indexer,col_indexer] = value instead\n",
            "\n",
            "See the caveats in the documentation: https://pandas.pydata.org/pandas-docs/stable/user_guide/indexing.html#returning-a-view-versus-a-copy\n",
            "  filtered_df[\"原価\"] = \"\\\\5,400\"\n",
            "<ipython-input-1-f77a67c4985b>:17: SettingWithCopyWarning: \n",
            "A value is trying to be set on a copy of a slice from a DataFrame.\n",
            "Try using .loc[row_indexer,col_indexer] = value instead\n",
            "\n",
            "See the caveats in the documentation: https://pandas.pydata.org/pandas-docs/stable/user_guide/indexing.html#returning-a-view-versus-a-copy\n",
            "  filtered_df[\"原価\"] = \"\\\\5,400\"\n",
            "<ipython-input-1-f77a67c4985b>:17: SettingWithCopyWarning: \n",
            "A value is trying to be set on a copy of a slice from a DataFrame.\n",
            "Try using .loc[row_indexer,col_indexer] = value instead\n",
            "\n",
            "See the caveats in the documentation: https://pandas.pydata.org/pandas-docs/stable/user_guide/indexing.html#returning-a-view-versus-a-copy\n",
            "  filtered_df[\"原価\"] = \"\\\\5,400\"\n",
            "<ipython-input-1-f77a67c4985b>:17: SettingWithCopyWarning: \n",
            "A value is trying to be set on a copy of a slice from a DataFrame.\n",
            "Try using .loc[row_indexer,col_indexer] = value instead\n",
            "\n",
            "See the caveats in the documentation: https://pandas.pydata.org/pandas-docs/stable/user_guide/indexing.html#returning-a-view-versus-a-copy\n",
            "  filtered_df[\"原価\"] = \"\\\\5,400\"\n"
          ]
        },
        {
          "output_type": "stream",
          "name": "stdout",
          "text": [
            "                                    カード名/商品名        買取価格      原価\n",
            "0    ポケモンカードゲーム 20周年記念 ロケット団スペシャルケース(未開封BOX)  ¥1,100,000  \\5,400\n",
            "1            コンセプトパック第3弾 ポケキュンコレクション(未開封BOX)    ¥800,000  \\5,400\n",
            "2             ポケモンカードゲーム15周年プレミアムセット(未開封BOX)    ¥700,000  \\5,400\n",
            "3                      拡張パック第3弾 ひかる闇(未開封BOX)    ¥650,000  \\5,400\n",
            "4                ハイクラスパック『GXバトルブースト』(未開封BOX)    ¥500,000  \\5,400\n",
            "..                                       ...         ...     ...\n",
            "161       バトルマスターデッキ 『テラスタル リザードンex』(未開封BOX)      ¥1,200  \\5,400\n",
            "162      スターターデッキ＆ビルドセット『古代のコライドンex』(未開封BOX)      ¥1,000  \\5,400\n",
            "163      スターターデッキ＆ビルドセット『未来のミライドンex』(未開封BOX)      ¥1,000  \\5,400\n",
            "164            スペシャルジャンボカードセット オーガポン(未開封BOX)      ¥1,000  \\5,400\n",
            "165             バトルマスターデッキ 『パオジアンex』(未開封BOX)        ¥700  \\5,400\n",
            "\n",
            "[166 rows x 3 columns]\n",
            "\n",
            "該当商品数: 166 件\n"
          ]
        },
        {
          "output_type": "stream",
          "name": "stderr",
          "text": [
            "<ipython-input-1-f77a67c4985b>:17: SettingWithCopyWarning: \n",
            "A value is trying to be set on a copy of a slice from a DataFrame.\n",
            "Try using .loc[row_indexer,col_indexer] = value instead\n",
            "\n",
            "See the caveats in the documentation: https://pandas.pydata.org/pandas-docs/stable/user_guide/indexing.html#returning-a-view-versus-a-copy\n",
            "  filtered_df[\"原価\"] = \"\\\\5,400\"\n"
          ]
        }
      ],
      "source": [
        "import pandas as pd\n",
        "\n",
        "all_dfs = []\n",
        "\n",
        "# 全5ページの表なのでページ1〜5をループ\n",
        "for page in range(1, 6):\n",
        "    url = f'https://cardrush.media/pokemon/buying_prices?displayMode=%E3%83%AA%E3%82%B9%E3%83%88&limit=100&name=&rarity=&model_number=&amount=&page={page}&sort%5Bkey%5D=amount&sort%5Border%5D=desc&associations%5B%5D=ocha_product&to_json_option%5Bexcept%5D%5B%5D=original_image_source&to_json_option%5Bexcept%5D%5B%5D=created_at&to_json_option%5Binclude%5D%5Bocha_product%5D%5Bonly%5D%5B%5D=id&to_json_option%5Binclude%5D%5Bocha_product%5D%5Bmethods%5D%5B%5D=image_source&pack_code=&element=&pack_name=&display_category=%E3%83%91%E3%83%83%E3%82%AF&is_hot%5B%5D=true&is_hot%5B%5D=false'\n",
        "\n",
        "    try:\n",
        "        dfs = pd.read_html(url)\n",
        "        df = dfs[0]\n",
        "\n",
        "        # 「未開封BOX」を含む行のみ抽出\n",
        "        filtered_df = df[df['カード名/商品名'].str.contains('未開封BOX', na=False)]\n",
        "\n",
        "        # 原価列を追加（すべて5400円とする）\n",
        "        filtered_df[\"原価\"] = \"\\\\5,400\"\n",
        "\n",
        "\n",
        "        all_dfs.append(filtered_df)\n",
        "\n",
        "    except Exception as e:\n",
        "        print(f\"ページ {page} でエラーが発生: {e}\")\n",
        "\n",
        "# 結果の連結\n",
        "if all_dfs:\n",
        "    result_df = pd.concat(all_dfs, ignore_index=True)\n",
        "    print(result_df)\n",
        "\n",
        "    # 件数の表示\n",
        "    print(f\"\\n該当商品数: {len(result_df)} 件\")\n",
        "\n",
        "else:\n",
        "    print(\"データが取得できませんでした。\")\n"
      ]
    }
  ]
}