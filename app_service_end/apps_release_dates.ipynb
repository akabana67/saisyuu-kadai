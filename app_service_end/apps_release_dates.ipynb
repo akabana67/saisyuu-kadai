{
 "cells": [
  {
   "cell_type": "markdown",
   "id": "5bebc974",
   "metadata": {},
   "source": [
    "## 1. タイトル列のユニーク値を抽出しCSV保存"
   ]
  },
  {
   "cell_type": "markdown",
   "id": "2104514b",
   "metadata": {},
   "source": [
    "### 1.1 ライブラリのインポート"
   ]
  },
  {
   "cell_type": "code",
   "execution_count": 1,
   "id": "100a6cd0",
   "metadata": {},
   "outputs": [],
   "source": [
    "import time\n",
    "import pandas as pd\n",
    "import traceback\n",
    "from selenium import webdriver\n",
    "from selenium.webdriver.common.by import By\n",
    "from selenium.webdriver.common.keys import Keys\n",
    "from selenium.webdriver.chrome.options import Options\n",
    "from selenium.webdriver.support.ui import WebDriverWait\n",
    "from selenium.webdriver.support import expected_conditions as EC"
   ]
  },
  {
   "cell_type": "markdown",
   "id": "b3b8c194",
   "metadata": {},
   "source": [
    "### 1.2 ファイルパスの設定"
   ]
  },
  {
   "cell_type": "code",
   "execution_count": 2,
   "id": "ef0d87f6",
   "metadata": {},
   "outputs": [],
   "source": [
    "# ▼ 入力CSVファイルのパス\n",
    "input_csv_path = \"gamei_apps_sales_summary_utf8bom_ver2.csv\"\n",
    "\n",
    "# ▼ 出力CSVファイルのパス\n",
    "output_csv_path = \"unique_titles.csv\""
   ]
  },
  {
   "cell_type": "markdown",
   "id": "a10386df",
   "metadata": {},
   "source": [
    "### 1.3 CSVの読み込み"
   ]
  },
  {
   "cell_type": "code",
   "execution_count": 3,
   "id": "3f77f246",
   "metadata": {},
   "outputs": [
    {
     "data": {
      "text/html": [
       "<div>\n",
       "<style scoped>\n",
       "    .dataframe tbody tr th:only-of-type {\n",
       "        vertical-align: middle;\n",
       "    }\n",
       "\n",
       "    .dataframe tbody tr th {\n",
       "        vertical-align: top;\n",
       "    }\n",
       "\n",
       "    .dataframe thead th {\n",
       "        text-align: right;\n",
       "    }\n",
       "</style>\n",
       "<table border=\"1\" class=\"dataframe\">\n",
       "  <thead>\n",
       "    <tr style=\"text-align: right;\">\n",
       "      <th></th>\n",
       "      <th>タイトル</th>\n",
       "      <th>年月</th>\n",
       "      <th>売上予測</th>\n",
       "      <th>関連ジャンル</th>\n",
       "      <th>サービス終了日</th>\n",
       "    </tr>\n",
       "  </thead>\n",
       "  <tbody>\n",
       "    <tr>\n",
       "      <th>0</th>\n",
       "      <td>スーパーガンダムロワイヤル</td>\n",
       "      <td>2018-12</td>\n",
       "      <td>2.48億G</td>\n",
       "      <td>NaN</td>\n",
       "      <td>2021-07-29</td>\n",
       "    </tr>\n",
       "    <tr>\n",
       "      <th>1</th>\n",
       "      <td>スーパーガンダムロワイヤル</td>\n",
       "      <td>2018-11</td>\n",
       "      <td>2.51億G</td>\n",
       "      <td>NaN</td>\n",
       "      <td>2021-07-29</td>\n",
       "    </tr>\n",
       "    <tr>\n",
       "      <th>2</th>\n",
       "      <td>スーパーガンダムロワイヤル</td>\n",
       "      <td>2018-10</td>\n",
       "      <td>2.63億G</td>\n",
       "      <td>NaN</td>\n",
       "      <td>2021-07-29</td>\n",
       "    </tr>\n",
       "    <tr>\n",
       "      <th>3</th>\n",
       "      <td>スーパーガンダムロワイヤル</td>\n",
       "      <td>2018-09</td>\n",
       "      <td>1.90億G</td>\n",
       "      <td>NaN</td>\n",
       "      <td>2021-07-29</td>\n",
       "    </tr>\n",
       "    <tr>\n",
       "      <th>4</th>\n",
       "      <td>スーパーガンダムロワイヤル</td>\n",
       "      <td>2018-08</td>\n",
       "      <td>1.98億G</td>\n",
       "      <td>NaN</td>\n",
       "      <td>2021-07-29</td>\n",
       "    </tr>\n",
       "  </tbody>\n",
       "</table>\n",
       "</div>"
      ],
      "text/plain": [
       "            タイトル       年月    売上予測 関連ジャンル     サービス終了日\n",
       "0  スーパーガンダムロワイヤル  2018-12  2.48億G    NaN  2021-07-29\n",
       "1  スーパーガンダムロワイヤル  2018-11  2.51億G    NaN  2021-07-29\n",
       "2  スーパーガンダムロワイヤル  2018-10  2.63億G    NaN  2021-07-29\n",
       "3  スーパーガンダムロワイヤル  2018-09  1.90億G    NaN  2021-07-29\n",
       "4  スーパーガンダムロワイヤル  2018-08  1.98億G    NaN  2021-07-29"
      ]
     },
     "execution_count": 3,
     "metadata": {},
     "output_type": "execute_result"
    }
   ],
   "source": [
    "# ▼ CSVの読み込み\n",
    "df = pd.read_csv(input_csv_path)\n",
    "\n",
    "# ▼ 読み込み確認（先頭5行）\n",
    "df.head()"
   ]
  },
  {
   "cell_type": "markdown",
   "id": "d42902d0",
   "metadata": {},
   "source": [
    "### 1.4 タイトル列のユニーク化"
   ]
  },
  {
   "cell_type": "code",
   "execution_count": 4,
   "id": "fe521752",
   "metadata": {},
   "outputs": [
    {
     "name": "stdout",
     "output_type": "stream",
     "text": [
      "ユニークなタイトル数: 393\n",
      "['スーパーガンダムロワイヤル' '武器よさらば' 'スーパーロボット大戦X-Ω' 'FINAL FANTASY GRANDMASTERS'\n",
      " 'ドラゴンプロジェクト' '戦の海賊' '誰ガ為のアルケミスト' 'デッキヒーローズ-本格派戦略カードゲーム-'\n",
      " '美少女戦士セーラームーン\\u3000セーラームーンドロップス' 'モンスターハンター エクスプロア']\n"
     ]
    }
   ],
   "source": [
    "# ▼ タイトル列の重複を除いた一覧を取得\n",
    "unique_titles = df[\"タイトル\"].dropna().unique()\n",
    "\n",
    "# ▼ 結果の確認\n",
    "print(f\"ユニークなタイトル数: {len(unique_titles)}\")\n",
    "print(unique_titles[:10])  # 最初の10件だけ確認"
   ]
  },
  {
   "cell_type": "markdown",
   "id": "2f02d12f",
   "metadata": {},
   "source": [
    "### 1.5 データフレームに変換して保存"
   ]
  },
  {
   "cell_type": "code",
   "execution_count": 5,
   "id": "458d819d",
   "metadata": {},
   "outputs": [
    {
     "name": "stdout",
     "output_type": "stream",
     "text": [
      "393 件のユニークなタイトルを unique_titles.csv に保存しました。\n"
     ]
    }
   ],
   "source": [
    "# ▼ データフレームに変換\n",
    "titles_df = pd.DataFrame(unique_titles, columns=[\"タイトル\"])\n",
    "\n",
    "# ▼ 新しいCSVとして保存（UTF-8 BOM付きで文字化け防止）\n",
    "titles_df.to_csv(output_csv_path, index=False, encoding=\"utf-8-sig\")\n",
    "\n",
    "print(f\"{len(titles_df)} 件のユニークなタイトルを {output_csv_path} に保存しました。\")"
   ]
  },
  {
   "cell_type": "markdown",
   "id": "332bbede",
   "metadata": {},
   "source": [
    "## 2 Seleniumで4Gamerからゲーム発売日を自動取得"
   ]
  },
  {
   "cell_type": "code",
   "execution_count": 6,
   "id": "d8cbffe4",
   "metadata": {},
   "outputs": [],
   "source": [
    "# ▼ ファイル設定\n",
    "input_file = \"unique_titles.csv\"\n",
    "output_file = \"titles_with_release_dates_test.csv\"\n",
    "\n",
    "# ▼ Chromeオプション（必要に応じて headless）\n",
    "options = Options()\n",
    "options.add_argument(\"--start-maximized\")\n",
    "# options.add_argument(\"--headless\")\n",
    "\n",
    "# ▼ ドライバ起動\n",
    "driver = webdriver.Chrome(options=options)"
   ]
  },
  {
   "cell_type": "markdown",
   "id": "15802d5a",
   "metadata": {},
   "source": [
    "### 2.1 ライブラリ・ドライバの準備"
   ]
  },
  {
   "cell_type": "code",
   "execution_count": 7,
   "id": "5ea96726",
   "metadata": {},
   "outputs": [],
   "source": [
    "# ▼ ファイル設定\n",
    "input_file = \"unique_titles.csv\"\n",
    "output_file = \"apps_release_dates.csv\"\n",
    "\n",
    "# ▼ Chromeオプション（必要に応じて headless）\n",
    "options = Options()\n",
    "options.add_argument(\"--start-maximized\")\n",
    "# options.add_argument(\"--headless\")\n",
    "\n",
    "# ▼ ドライバ起動\n",
    "driver = webdriver.Chrome(options=options)"
   ]
  },
  {
   "cell_type": "markdown",
   "id": "da3ca4a7",
   "metadata": {},
   "source": [
    "### 2.2 タイトル一覧の読み込みと準備"
   ]
  },
  {
   "cell_type": "code",
   "execution_count": 8,
   "id": "7e0df661",
   "metadata": {},
   "outputs": [
    {
     "data": {
      "text/html": [
       "<div>\n",
       "<style scoped>\n",
       "    .dataframe tbody tr th:only-of-type {\n",
       "        vertical-align: middle;\n",
       "    }\n",
       "\n",
       "    .dataframe tbody tr th {\n",
       "        vertical-align: top;\n",
       "    }\n",
       "\n",
       "    .dataframe thead th {\n",
       "        text-align: right;\n",
       "    }\n",
       "</style>\n",
       "<table border=\"1\" class=\"dataframe\">\n",
       "  <thead>\n",
       "    <tr style=\"text-align: right;\">\n",
       "      <th></th>\n",
       "      <th>タイトル</th>\n",
       "      <th>発売日</th>\n",
       "    </tr>\n",
       "  </thead>\n",
       "  <tbody>\n",
       "    <tr>\n",
       "      <th>0</th>\n",
       "      <td>スーパーガンダムロワイヤル</td>\n",
       "      <td>None</td>\n",
       "    </tr>\n",
       "    <tr>\n",
       "      <th>1</th>\n",
       "      <td>武器よさらば</td>\n",
       "      <td>None</td>\n",
       "    </tr>\n",
       "    <tr>\n",
       "      <th>2</th>\n",
       "      <td>スーパーロボット大戦X-Ω</td>\n",
       "      <td>None</td>\n",
       "    </tr>\n",
       "    <tr>\n",
       "      <th>3</th>\n",
       "      <td>FINAL FANTASY GRANDMASTERS</td>\n",
       "      <td>None</td>\n",
       "    </tr>\n",
       "    <tr>\n",
       "      <th>4</th>\n",
       "      <td>ドラゴンプロジェクト</td>\n",
       "      <td>None</td>\n",
       "    </tr>\n",
       "    <tr>\n",
       "      <th>...</th>\n",
       "      <td>...</td>\n",
       "      <td>...</td>\n",
       "    </tr>\n",
       "    <tr>\n",
       "      <th>388</th>\n",
       "      <td>エレメンタルストーリーワールド</td>\n",
       "      <td>None</td>\n",
       "    </tr>\n",
       "    <tr>\n",
       "      <th>389</th>\n",
       "      <td>モルガナティック・アイドル 乙女ゲーム・恋愛ゲーム</td>\n",
       "      <td>None</td>\n",
       "    </tr>\n",
       "    <tr>\n",
       "      <th>390</th>\n",
       "      <td>廻らぬ星のステラリウム</td>\n",
       "      <td>None</td>\n",
       "    </tr>\n",
       "    <tr>\n",
       "      <th>391</th>\n",
       "      <td>タップハンター～剣と魔法の放置RPG～</td>\n",
       "      <td>None</td>\n",
       "    </tr>\n",
       "    <tr>\n",
       "      <th>392</th>\n",
       "      <td>青山オペレッタ</td>\n",
       "      <td>None</td>\n",
       "    </tr>\n",
       "  </tbody>\n",
       "</table>\n",
       "<p>393 rows × 2 columns</p>\n",
       "</div>"
      ],
      "text/plain": [
       "                           タイトル   発売日\n",
       "0                 スーパーガンダムロワイヤル  None\n",
       "1                        武器よさらば  None\n",
       "2                 スーパーロボット大戦X-Ω  None\n",
       "3    FINAL FANTASY GRANDMASTERS  None\n",
       "4                    ドラゴンプロジェクト  None\n",
       "..                          ...   ...\n",
       "388             エレメンタルストーリーワールド  None\n",
       "389   モルガナティック・アイドル 乙女ゲーム・恋愛ゲーム  None\n",
       "390                 廻らぬ星のステラリウム  None\n",
       "391         タップハンター～剣と魔法の放置RPG～  None\n",
       "392                     青山オペレッタ  None\n",
       "\n",
       "[393 rows x 2 columns]"
      ]
     },
     "execution_count": 8,
     "metadata": {},
     "output_type": "execute_result"
    }
   ],
   "source": [
    "# ▼ タイトル読み込み\n",
    "df = pd.read_csv(input_file).copy()\n",
    "df[\"発売日\"] = None\n",
    "df"
   ]
  },
  {
   "cell_type": "code",
   "execution_count": 11,
   "id": "563331ae",
   "metadata": {},
   "outputs": [
    {
     "name": "stdout",
     "output_type": "stream",
     "text": [
      "[1/393] 検索中：スーパーガンダムロワイヤル\n",
      " → 発売日：2015/10/16\n",
      "[2/393] 検索中：武器よさらば\n",
      " → 発売日：2017/03/30\n",
      "[3/393] 検索中：スーパーロボット大戦X-Ω\n",
      " → 発売日：2015/10/05\n",
      "[4/393] 検索中：FINAL FANTASY GRANDMASTERS\n",
      " → 発売日：2015/10/01\n",
      "[5/393] 検索中：ドラゴンプロジェクト\n",
      " → 発売日：2016/06/03\n",
      "[6/393] 検索中：戦の海賊\n",
      " → 発売日：2015/08/27\n",
      "[7/393] 検索中：誰ガ為のアルケミスト\n",
      " → 発売日：2016/01/28\n",
      "[8/393] 検索中：デッキヒーローズ-本格派戦略カードゲーム-\n",
      " → メイン処理エラー:\n",
      "[9/393] 検索中：美少女戦士セーラームーン　セーラームーンドロップス\n"
     ]
    },
    {
     "name": "stderr",
     "output_type": "stream",
     "text": [
      "Traceback (most recent call last):\n",
      "  File \"C:\\Users\\zakky\\AppData\\Local\\Temp\\ipykernel_4664\\3206948621.py\", line 17, in <module>\n",
      "    WebDriverWait(driver, 10).until(\n",
      "    ~~~~~~~~~~~~~~~~~~~~~~~~~~~~~~~^\n",
      "        EC.visibility_of_all_elements_located((By.CSS_SELECTOR, 'h2 > a[href^=\"/games/\"]'))\n",
      "        ^^^^^^^^^^^^^^^^^^^^^^^^^^^^^^^^^^^^^^^^^^^^^^^^^^^^^^^^^^^^^^^^^^^^^^^^^^^^^^^^^^^\n",
      "    )\n",
      "    ^\n",
      "  File \"c:\\Users\\zakky\\AppData\\Local\\Programs\\Python\\Python313\\Lib\\site-packages\\selenium\\webdriver\\support\\wait.py\", line 146, in until\n",
      "    raise TimeoutException(message, screen, stacktrace)\n",
      "selenium.common.exceptions.TimeoutException: Message: \n",
      "\n"
     ]
    },
    {
     "name": "stdout",
     "output_type": "stream",
     "text": [
      " → 発売日：2015/09/03\n",
      "[10/393] 検索中：モンスターハンター エクスプロア\n",
      " → 発売日：2015/09/29\n",
      "[11/393] 検索中：夢色キャスト\n",
      " → 発売日：2024/09/29\n",
      "[12/393] 検索中：グリムノーツ\n",
      " → 発売日：2016/01/21\n",
      "[13/393] 検索中：DAME×PRINCE -ダメ王子たちとのドタバタ恋愛ADV\n",
      " → 発売日：2016/03/31\n",
      "[14/393] 検索中：かんぱにガールズ ファンタジーRPG\n",
      " → メイン処理エラー:\n",
      "[15/393] 検索中：デジモンリンクス\n"
     ]
    },
    {
     "name": "stderr",
     "output_type": "stream",
     "text": [
      "Traceback (most recent call last):\n",
      "  File \"C:\\Users\\zakky\\AppData\\Local\\Temp\\ipykernel_4664\\3206948621.py\", line 17, in <module>\n",
      "    WebDriverWait(driver, 10).until(\n",
      "    ~~~~~~~~~~~~~~~~~~~~~~~~~~~~~~~^\n",
      "        EC.visibility_of_all_elements_located((By.CSS_SELECTOR, 'h2 > a[href^=\"/games/\"]'))\n",
      "        ^^^^^^^^^^^^^^^^^^^^^^^^^^^^^^^^^^^^^^^^^^^^^^^^^^^^^^^^^^^^^^^^^^^^^^^^^^^^^^^^^^^\n",
      "    )\n",
      "    ^\n",
      "  File \"c:\\Users\\zakky\\AppData\\Local\\Programs\\Python\\Python313\\Lib\\site-packages\\selenium\\webdriver\\support\\wait.py\", line 146, in until\n",
      "    raise TimeoutException(message, screen, stacktrace)\n",
      "selenium.common.exceptions.TimeoutException: Message: \n",
      "\n"
     ]
    },
    {
     "name": "stdout",
     "output_type": "stream",
     "text": [
      " → 発売日：2016/03/24\n",
      "[16/393] 検索中：BFBチャンピオンズ2.0\n",
      " → 発売日：2016/06/29\n",
      "[17/393] 検索中：フェアリーテイル 極・魔法乱舞\n",
      " → 発売日：2015/12/04\n",
      "[18/393] 検索中：12オーディンズ - 王道RPG\n",
      " → メイン処理エラー:\n",
      "[19/393] 検索中：ラストピリオド - 終わりなき螺旋の物語 -\n"
     ]
    },
    {
     "name": "stderr",
     "output_type": "stream",
     "text": [
      "Traceback (most recent call last):\n",
      "  File \"C:\\Users\\zakky\\AppData\\Local\\Temp\\ipykernel_4664\\3206948621.py\", line 17, in <module>\n",
      "    WebDriverWait(driver, 10).until(\n",
      "    ~~~~~~~~~~~~~~~~~~~~~~~~~~~~~~~^\n",
      "        EC.visibility_of_all_elements_located((By.CSS_SELECTOR, 'h2 > a[href^=\"/games/\"]'))\n",
      "        ^^^^^^^^^^^^^^^^^^^^^^^^^^^^^^^^^^^^^^^^^^^^^^^^^^^^^^^^^^^^^^^^^^^^^^^^^^^^^^^^^^^\n",
      "    )\n",
      "    ^\n",
      "  File \"c:\\Users\\zakky\\AppData\\Local\\Programs\\Python\\Python313\\Lib\\site-packages\\selenium\\webdriver\\support\\wait.py\", line 146, in until\n",
      "    raise TimeoutException(message, screen, stacktrace)\n",
      "selenium.common.exceptions.TimeoutException: Message: \n",
      "\n"
     ]
    },
    {
     "name": "stdout",
     "output_type": "stream",
     "text": [
      " → 発売日：2016/05/10\n",
      "[20/393] 検索中：聖闘士星矢 ゾディアック ブレイブ\n",
      " → 発売日：2016/01/28\n",
      "[21/393] 検索中：ブレイブファンタジア【まったり＆簡単操作の爽快RPG】\n",
      " → メイン処理エラー:\n",
      "[22/393] 検索中：新発売　おそ松さんのへそくりウォーズ　〜ニートの攻防〜\n"
     ]
    },
    {
     "name": "stderr",
     "output_type": "stream",
     "text": [
      "Traceback (most recent call last):\n",
      "  File \"C:\\Users\\zakky\\AppData\\Local\\Temp\\ipykernel_4664\\3206948621.py\", line 17, in <module>\n",
      "    WebDriverWait(driver, 10).until(\n",
      "    ~~~~~~~~~~~~~~~~~~~~~~~~~~~~~~~^\n",
      "        EC.visibility_of_all_elements_located((By.CSS_SELECTOR, 'h2 > a[href^=\"/games/\"]'))\n",
      "        ^^^^^^^^^^^^^^^^^^^^^^^^^^^^^^^^^^^^^^^^^^^^^^^^^^^^^^^^^^^^^^^^^^^^^^^^^^^^^^^^^^^\n",
      "    )\n",
      "    ^\n",
      "  File \"c:\\Users\\zakky\\AppData\\Local\\Programs\\Python\\Python313\\Lib\\site-packages\\selenium\\webdriver\\support\\wait.py\", line 146, in until\n",
      "    raise TimeoutException(message, screen, stacktrace)\n",
      "selenium.common.exceptions.TimeoutException: Message: \n",
      "\n"
     ]
    },
    {
     "name": "stdout",
     "output_type": "stream",
     "text": [
      " → メイン処理エラー:\n",
      "[23/393] 検索中：野球つく！！\n"
     ]
    },
    {
     "name": "stderr",
     "output_type": "stream",
     "text": [
      "Traceback (most recent call last):\n",
      "  File \"C:\\Users\\zakky\\AppData\\Local\\Temp\\ipykernel_4664\\3206948621.py\", line 17, in <module>\n",
      "    WebDriverWait(driver, 10).until(\n",
      "    ~~~~~~~~~~~~~~~~~~~~~~~~~~~~~~~^\n",
      "        EC.visibility_of_all_elements_located((By.CSS_SELECTOR, 'h2 > a[href^=\"/games/\"]'))\n",
      "        ^^^^^^^^^^^^^^^^^^^^^^^^^^^^^^^^^^^^^^^^^^^^^^^^^^^^^^^^^^^^^^^^^^^^^^^^^^^^^^^^^^^\n",
      "    )\n",
      "    ^\n",
      "  File \"c:\\Users\\zakky\\AppData\\Local\\Programs\\Python\\Python313\\Lib\\site-packages\\selenium\\webdriver\\support\\wait.py\", line 146, in until\n",
      "    raise TimeoutException(message, screen, stacktrace)\n",
      "selenium.common.exceptions.TimeoutException: Message: \n",
      "\n"
     ]
    },
    {
     "name": "stdout",
     "output_type": "stream",
     "text": [
      " → 発売日：2016/06/29\n",
      "[24/393] 検索中：VALKYRIE ANATOMIA(ヴァルキリーアナトミア)\n",
      " → メイン処理エラー:\n",
      "[25/393] 検索中：ONE PIECE サウザンドストーム\n"
     ]
    },
    {
     "name": "stderr",
     "output_type": "stream",
     "text": [
      "Traceback (most recent call last):\n",
      "  File \"C:\\Users\\zakky\\AppData\\Local\\Temp\\ipykernel_4664\\3206948621.py\", line 17, in <module>\n",
      "    WebDriverWait(driver, 10).until(\n",
      "    ~~~~~~~~~~~~~~~~~~~~~~~~~~~~~~~^\n",
      "        EC.visibility_of_all_elements_located((By.CSS_SELECTOR, 'h2 > a[href^=\"/games/\"]'))\n",
      "        ^^^^^^^^^^^^^^^^^^^^^^^^^^^^^^^^^^^^^^^^^^^^^^^^^^^^^^^^^^^^^^^^^^^^^^^^^^^^^^^^^^^\n",
      "    )\n",
      "    ^\n",
      "  File \"c:\\Users\\zakky\\AppData\\Local\\Programs\\Python\\Python313\\Lib\\site-packages\\selenium\\webdriver\\support\\wait.py\", line 146, in until\n",
      "    raise TimeoutException(message, screen, stacktrace)\n",
      "selenium.common.exceptions.TimeoutException: Message: \n",
      "\n"
     ]
    },
    {
     "name": "stdout",
     "output_type": "stream",
     "text": [
      " → 発売日：2016/04/21\n",
      "[26/393] 検索中：仮面ライダー バトルラッシュ\n",
      " → 発売日：2016/07/25\n",
      "[27/393] 検索中：実況パワフルサッカー 【選手育成サッカーゲーム】\n",
      " → メイン処理エラー:\n",
      "[28/393] 検索中：スマッシュ＆マジック\n"
     ]
    },
    {
     "name": "stderr",
     "output_type": "stream",
     "text": [
      "Traceback (most recent call last):\n",
      "  File \"C:\\Users\\zakky\\AppData\\Local\\Temp\\ipykernel_4664\\3206948621.py\", line 17, in <module>\n",
      "    WebDriverWait(driver, 10).until(\n",
      "    ~~~~~~~~~~~~~~~~~~~~~~~~~~~~~~~^\n",
      "        EC.visibility_of_all_elements_located((By.CSS_SELECTOR, 'h2 > a[href^=\"/games/\"]'))\n",
      "        ^^^^^^^^^^^^^^^^^^^^^^^^^^^^^^^^^^^^^^^^^^^^^^^^^^^^^^^^^^^^^^^^^^^^^^^^^^^^^^^^^^^\n",
      "    )\n",
      "    ^\n",
      "  File \"c:\\Users\\zakky\\AppData\\Local\\Programs\\Python\\Python313\\Lib\\site-packages\\selenium\\webdriver\\support\\wait.py\", line 146, in until\n",
      "    raise TimeoutException(message, screen, stacktrace)\n",
      "selenium.common.exceptions.TimeoutException: Message: \n",
      "\n"
     ]
    },
    {
     "name": "stdout",
     "output_type": "stream",
     "text": [
      " → 発売日：2017/07/19\n",
      "[29/393] 検索中：オルタナティブガールズ\n",
      " → 発売日：2016/07/20\n",
      "[30/393] 検索中：クックと魔法のレシピ おかわり（育成ゲーム）\n",
      " → メイン処理エラー:\n",
      "[31/393] 検索中：セブンズストーリー\n"
     ]
    },
    {
     "name": "stderr",
     "output_type": "stream",
     "text": [
      "Traceback (most recent call last):\n",
      "  File \"C:\\Users\\zakky\\AppData\\Local\\Temp\\ipykernel_4664\\3206948621.py\", line 17, in <module>\n",
      "    WebDriverWait(driver, 10).until(\n",
      "    ~~~~~~~~~~~~~~~~~~~~~~~~~~~~~~~^\n",
      "        EC.visibility_of_all_elements_located((By.CSS_SELECTOR, 'h2 > a[href^=\"/games/\"]'))\n",
      "        ^^^^^^^^^^^^^^^^^^^^^^^^^^^^^^^^^^^^^^^^^^^^^^^^^^^^^^^^^^^^^^^^^^^^^^^^^^^^^^^^^^^\n",
      "    )\n",
      "    ^\n",
      "  File \"c:\\Users\\zakky\\AppData\\Local\\Programs\\Python\\Python313\\Lib\\site-packages\\selenium\\webdriver\\support\\wait.py\", line 146, in until\n",
      "    raise TimeoutException(message, screen, stacktrace)\n",
      "selenium.common.exceptions.TimeoutException: Message: \n",
      "\n"
     ]
    },
    {
     "name": "stdout",
     "output_type": "stream",
     "text": [
      " → 発売日：2017/08/18\n",
      "[32/393] 検索中：HIDE AND FIRE（ハイドアンドファイア）\n",
      " → メイン処理エラー:\n",
      "[33/393] 検索中：8 beat Story ~アイドル×音楽ゲーム~\n"
     ]
    },
    {
     "name": "stderr",
     "output_type": "stream",
     "text": [
      "Traceback (most recent call last):\n",
      "  File \"C:\\Users\\zakky\\AppData\\Local\\Temp\\ipykernel_4664\\3206948621.py\", line 17, in <module>\n",
      "    WebDriverWait(driver, 10).until(\n",
      "    ~~~~~~~~~~~~~~~~~~~~~~~~~~~~~~~^\n",
      "        EC.visibility_of_all_elements_located((By.CSS_SELECTOR, 'h2 > a[href^=\"/games/\"]'))\n",
      "        ^^^^^^^^^^^^^^^^^^^^^^^^^^^^^^^^^^^^^^^^^^^^^^^^^^^^^^^^^^^^^^^^^^^^^^^^^^^^^^^^^^^\n",
      "    )\n",
      "    ^\n",
      "  File \"c:\\Users\\zakky\\AppData\\Local\\Programs\\Python\\Python313\\Lib\\site-packages\\selenium\\webdriver\\support\\wait.py\", line 146, in until\n",
      "    raise TimeoutException(message, screen, stacktrace)\n",
      "selenium.common.exceptions.TimeoutException: Message: \n",
      "\n"
     ]
    },
    {
     "name": "stdout",
     "output_type": "stream",
     "text": [
      " → メイン処理エラー:\n",
      "[34/393] 検索中：テイルズ オブ ザ レイズ\n"
     ]
    },
    {
     "name": "stderr",
     "output_type": "stream",
     "text": [
      "Traceback (most recent call last):\n",
      "  File \"C:\\Users\\zakky\\AppData\\Local\\Temp\\ipykernel_4664\\3206948621.py\", line 17, in <module>\n",
      "    WebDriverWait(driver, 10).until(\n",
      "    ~~~~~~~~~~~~~~~~~~~~~~~~~~~~~~~^\n",
      "        EC.visibility_of_all_elements_located((By.CSS_SELECTOR, 'h2 > a[href^=\"/games/\"]'))\n",
      "        ^^^^^^^^^^^^^^^^^^^^^^^^^^^^^^^^^^^^^^^^^^^^^^^^^^^^^^^^^^^^^^^^^^^^^^^^^^^^^^^^^^^\n",
      "    )\n",
      "    ^\n",
      "  File \"c:\\Users\\zakky\\AppData\\Local\\Programs\\Python\\Python313\\Lib\\site-packages\\selenium\\webdriver\\support\\wait.py\", line 146, in until\n",
      "    raise TimeoutException(message, screen, stacktrace)\n",
      "selenium.common.exceptions.TimeoutException: Message: \n",
      "\n"
     ]
    },
    {
     "name": "stdout",
     "output_type": "stream",
     "text": [
      " → 発売日：2017/02/28\n",
      "[35/393] 検索中：NARUTO-ナルト- 疾風伝　ナルティメットブレイジング\n",
      " → 発売日：2016/07/14\n",
      "[36/393] 検索中：ディシディアファイナルファンタジー オペラオムニア\n",
      " → 発売日：2017/02/01\n",
      "[37/393] 検索中：ディズニー マイリトルドール\n",
      " → 発売日：2016/09/01\n",
      "[38/393] 検索中：ハイキュー!!ドンピシャマッチ!!\n",
      " → 発売日：2016/08/05\n",
      "[39/393] 検索中：ドールズオーダー 【チーム対戦アクション】\n",
      " → メイン処理エラー:\n",
      "[40/393] 検索中：THE NEW GATE（ザ・ニュー・ゲート）\n"
     ]
    },
    {
     "name": "stderr",
     "output_type": "stream",
     "text": [
      "Traceback (most recent call last):\n",
      "  File \"C:\\Users\\zakky\\AppData\\Local\\Temp\\ipykernel_4664\\3206948621.py\", line 17, in <module>\n",
      "    WebDriverWait(driver, 10).until(\n",
      "    ~~~~~~~~~~~~~~~~~~~~~~~~~~~~~~~^\n",
      "        EC.visibility_of_all_elements_located((By.CSS_SELECTOR, 'h2 > a[href^=\"/games/\"]'))\n",
      "        ^^^^^^^^^^^^^^^^^^^^^^^^^^^^^^^^^^^^^^^^^^^^^^^^^^^^^^^^^^^^^^^^^^^^^^^^^^^^^^^^^^^\n",
      "    )\n",
      "    ^\n",
      "  File \"c:\\Users\\zakky\\AppData\\Local\\Programs\\Python\\Python313\\Lib\\site-packages\\selenium\\webdriver\\support\\wait.py\", line 146, in until\n",
      "    raise TimeoutException(message, screen, stacktrace)\n",
      "selenium.common.exceptions.TimeoutException: Message: \n",
      "\n"
     ]
    },
    {
     "name": "stdout",
     "output_type": "stream",
     "text": [
      " → メイン処理エラー:\n",
      "[41/393] 検索中：スーパー戦隊レジェンドウォーズ\n"
     ]
    },
    {
     "name": "stderr",
     "output_type": "stream",
     "text": [
      "Traceback (most recent call last):\n",
      "  File \"C:\\Users\\zakky\\AppData\\Local\\Temp\\ipykernel_4664\\3206948621.py\", line 17, in <module>\n",
      "    WebDriverWait(driver, 10).until(\n",
      "    ~~~~~~~~~~~~~~~~~~~~~~~~~~~~~~~^\n",
      "        EC.visibility_of_all_elements_located((By.CSS_SELECTOR, 'h2 > a[href^=\"/games/\"]'))\n",
      "        ^^^^^^^^^^^^^^^^^^^^^^^^^^^^^^^^^^^^^^^^^^^^^^^^^^^^^^^^^^^^^^^^^^^^^^^^^^^^^^^^^^^\n",
      "    )\n",
      "    ^\n",
      "  File \"c:\\Users\\zakky\\AppData\\Local\\Programs\\Python\\Python313\\Lib\\site-packages\\selenium\\webdriver\\support\\wait.py\", line 146, in until\n",
      "    raise TimeoutException(message, screen, stacktrace)\n",
      "selenium.common.exceptions.TimeoutException: Message: \n",
      "\n"
     ]
    },
    {
     "name": "stdout",
     "output_type": "stream",
     "text": [
      " → 発売日：2016/09/06\n",
      "[42/393] 検索中：三国ブレイズ：オンライン三国志RPG\n",
      " → メイン処理エラー:\n",
      "[43/393] 検索中：STAR OCEAN -anamnesis-\n"
     ]
    },
    {
     "name": "stderr",
     "output_type": "stream",
     "text": [
      "Traceback (most recent call last):\n",
      "  File \"C:\\Users\\zakky\\AppData\\Local\\Temp\\ipykernel_4664\\3206948621.py\", line 17, in <module>\n",
      "    WebDriverWait(driver, 10).until(\n",
      "    ~~~~~~~~~~~~~~~~~~~~~~~~~~~~~~~^\n",
      "        EC.visibility_of_all_elements_located((By.CSS_SELECTOR, 'h2 > a[href^=\"/games/\"]'))\n",
      "        ^^^^^^^^^^^^^^^^^^^^^^^^^^^^^^^^^^^^^^^^^^^^^^^^^^^^^^^^^^^^^^^^^^^^^^^^^^^^^^^^^^^\n",
      "    )\n",
      "    ^\n",
      "  File \"c:\\Users\\zakky\\AppData\\Local\\Programs\\Python\\Python313\\Lib\\site-packages\\selenium\\webdriver\\support\\wait.py\", line 146, in until\n",
      "    raise TimeoutException(message, screen, stacktrace)\n",
      "selenium.common.exceptions.TimeoutException: Message: \n",
      "\n"
     ]
    },
    {
     "name": "stdout",
     "output_type": "stream",
     "text": [
      " → メイン処理エラー:\n",
      "[44/393] 検索中：THE KING OF FIGHTERS ALLSTAR\n"
     ]
    },
    {
     "name": "stderr",
     "output_type": "stream",
     "text": [
      "Traceback (most recent call last):\n",
      "  File \"C:\\Users\\zakky\\AppData\\Local\\Temp\\ipykernel_4664\\3206948621.py\", line 17, in <module>\n",
      "    WebDriverWait(driver, 10).until(\n",
      "    ~~~~~~~~~~~~~~~~~~~~~~~~~~~~~~~^\n",
      "        EC.visibility_of_all_elements_located((By.CSS_SELECTOR, 'h2 > a[href^=\"/games/\"]'))\n",
      "        ^^^^^^^^^^^^^^^^^^^^^^^^^^^^^^^^^^^^^^^^^^^^^^^^^^^^^^^^^^^^^^^^^^^^^^^^^^^^^^^^^^^\n",
      "    )\n",
      "    ^\n",
      "  File \"c:\\Users\\zakky\\AppData\\Local\\Programs\\Python\\Python313\\Lib\\site-packages\\selenium\\webdriver\\support\\wait.py\", line 146, in until\n",
      "    raise TimeoutException(message, screen, stacktrace)\n",
      "selenium.common.exceptions.TimeoutException: Message: \n",
      "\n"
     ]
    },
    {
     "name": "stdout",
     "output_type": "stream",
     "text": [
      " → 発売日：2018/07/26\n",
      "[45/393] 検索中：ソードアート・オンライン メモリー・デフラグ\n",
      " → 発売日：2016/08/29\n",
      "[46/393] 検索中：バンドやろうぜ！\n",
      " → 発売日：2016/10/12\n",
      "[47/393] 検索中：銀魂 かぶき町大活劇\n",
      " → 発売日：2016/09/15\n",
      "[48/393] 検索中：ソウルリバース ゼロ（SOUL REVERSE ZERO）\n",
      " → メイン処理エラー:\n",
      "[49/393] 検索中：モバサカ CHAMPIONS MANAGER\n"
     ]
    },
    {
     "name": "stderr",
     "output_type": "stream",
     "text": [
      "Traceback (most recent call last):\n",
      "  File \"C:\\Users\\zakky\\AppData\\Local\\Temp\\ipykernel_4664\\3206948621.py\", line 17, in <module>\n",
      "    WebDriverWait(driver, 10).until(\n",
      "    ~~~~~~~~~~~~~~~~~~~~~~~~~~~~~~~^\n",
      "        EC.visibility_of_all_elements_located((By.CSS_SELECTOR, 'h2 > a[href^=\"/games/\"]'))\n",
      "        ^^^^^^^^^^^^^^^^^^^^^^^^^^^^^^^^^^^^^^^^^^^^^^^^^^^^^^^^^^^^^^^^^^^^^^^^^^^^^^^^^^^\n",
      "    )\n",
      "    ^\n",
      "  File \"c:\\Users\\zakky\\AppData\\Local\\Programs\\Python\\Python313\\Lib\\site-packages\\selenium\\webdriver\\support\\wait.py\", line 146, in until\n",
      "    raise TimeoutException(message, screen, stacktrace)\n",
      "selenium.common.exceptions.TimeoutException: Message: \n",
      "\n"
     ]
    },
    {
     "name": "stdout",
     "output_type": "stream",
     "text": [
      " → 発売日：-\n",
      "[50/393] 検索中：恋愛幕末カレシ～恋愛ゲーム・乙女ゲーム女性向け～\n"
     ]
    },
    {
     "ename": "KeyboardInterrupt",
     "evalue": "",
     "output_type": "error",
     "traceback": [
      "\u001b[31m---------------------------------------------------------------------------\u001b[39m",
      "\u001b[31mKeyboardInterrupt\u001b[39m                         Traceback (most recent call last)",
      "\u001b[36mCell\u001b[39m\u001b[36m \u001b[39m\u001b[32mIn[11]\u001b[39m\u001b[32m, line 17\u001b[39m\n\u001b[32m     14\u001b[39m search_box.send_keys(Keys.RETURN)\n\u001b[32m     16\u001b[39m \u001b[38;5;66;03m# ② 検索結果リンクを待つ\u001b[39;00m\n\u001b[32m---> \u001b[39m\u001b[32m17\u001b[39m \u001b[43mWebDriverWait\u001b[49m\u001b[43m(\u001b[49m\u001b[43mdriver\u001b[49m\u001b[43m,\u001b[49m\u001b[43m \u001b[49m\u001b[32;43m10\u001b[39;49m\u001b[43m)\u001b[49m\u001b[43m.\u001b[49m\u001b[43muntil\u001b[49m\u001b[43m(\u001b[49m\n\u001b[32m     18\u001b[39m \u001b[43m    \u001b[49m\u001b[43mEC\u001b[49m\u001b[43m.\u001b[49m\u001b[43mvisibility_of_all_elements_located\u001b[49m\u001b[43m(\u001b[49m\u001b[43m(\u001b[49m\u001b[43mBy\u001b[49m\u001b[43m.\u001b[49m\u001b[43mCSS_SELECTOR\u001b[49m\u001b[43m,\u001b[49m\u001b[43m \u001b[49m\u001b[33;43m'\u001b[39;49m\u001b[33;43mh2 > a[href^=\u001b[39;49m\u001b[33;43m\"\u001b[39;49m\u001b[33;43m/games/\u001b[39;49m\u001b[33;43m\"\u001b[39;49m\u001b[33;43m]\u001b[39;49m\u001b[33;43m'\u001b[39;49m\u001b[43m)\u001b[49m\u001b[43m)\u001b[49m\n\u001b[32m     19\u001b[39m \u001b[43m\u001b[49m\u001b[43m)\u001b[49m\n\u001b[32m     20\u001b[39m links = driver.find_elements(By.CSS_SELECTOR, \u001b[33m'\u001b[39m\u001b[33mh2 > a[href^=\u001b[39m\u001b[33m\"\u001b[39m\u001b[33m/games/\u001b[39m\u001b[33m\"\u001b[39m\u001b[33m]\u001b[39m\u001b[33m'\u001b[39m)\n\u001b[32m     21\u001b[39m game_links = [link \u001b[38;5;28;01mfor\u001b[39;00m link \u001b[38;5;129;01min\u001b[39;00m links \u001b[38;5;28;01mif\u001b[39;00m \u001b[33m\"\u001b[39m\u001b[33m/games/\u001b[39m\u001b[33m\"\u001b[39m \u001b[38;5;129;01min\u001b[39;00m (link.get_attribute(\u001b[33m\"\u001b[39m\u001b[33mhref\u001b[39m\u001b[33m\"\u001b[39m) \u001b[38;5;129;01mor\u001b[39;00m \u001b[33m\"\u001b[39m\u001b[33m\"\u001b[39m)]\n",
      "\u001b[36mFile \u001b[39m\u001b[32mc:\\Users\\zakky\\AppData\\Local\\Programs\\Python\\Python313\\Lib\\site-packages\\selenium\\webdriver\\support\\wait.py:145\u001b[39m, in \u001b[36mWebDriverWait.until\u001b[39m\u001b[34m(self, method, message)\u001b[39m\n\u001b[32m    143\u001b[39m     \u001b[38;5;28;01mif\u001b[39;00m time.monotonic() > end_time:\n\u001b[32m    144\u001b[39m         \u001b[38;5;28;01mbreak\u001b[39;00m\n\u001b[32m--> \u001b[39m\u001b[32m145\u001b[39m     \u001b[43mtime\u001b[49m\u001b[43m.\u001b[49m\u001b[43msleep\u001b[49m\u001b[43m(\u001b[49m\u001b[38;5;28;43mself\u001b[39;49m\u001b[43m.\u001b[49m\u001b[43m_poll\u001b[49m\u001b[43m)\u001b[49m\n\u001b[32m    146\u001b[39m \u001b[38;5;28;01mraise\u001b[39;00m TimeoutException(message, screen, stacktrace)\n",
      "\u001b[31mKeyboardInterrupt\u001b[39m: "
     ]
    }
   ],
   "source": [
    "# ▼ メイン処理ループの開始\n",
    "for idx, row in df.iterrows():\n",
    "    title = row[\"タイトル\"]\n",
    "    print(f\"[{idx+1}/{len(df)}] 検索中：{title}\")\n",
    "\n",
    "    try:\n",
    "        # ① トップページから検索\n",
    "        driver.get(\"https://www.4gamer.net/\")\n",
    "        WebDriverWait(driver, 10).until(EC.visibility_of_element_located((By.NAME, \"word\")))\n",
    "\n",
    "        search_box = driver.find_element(By.NAME, \"word\")\n",
    "        search_box.clear()\n",
    "        search_box.send_keys(title)\n",
    "        search_box.send_keys(Keys.RETURN)\n",
    "\n",
    "        # ② 検索結果リンクを待つ\n",
    "        WebDriverWait(driver, 10).until(\n",
    "            EC.visibility_of_all_elements_located((By.CSS_SELECTOR, 'h2 > a[href^=\"/games/\"]'))\n",
    "        )\n",
    "        links = driver.find_elements(By.CSS_SELECTOR, 'h2 > a[href^=\"/games/\"]')\n",
    "        game_links = [link for link in links if \"/games/\" in (link.get_attribute(\"href\") or \"\")]\n",
    "\n",
    "        if not game_links:\n",
    "            print(\" → ゲーム紹介ページが見つかりません\")\n",
    "            continue\n",
    "\n",
    "        # ③ ゲーム紹介ページで発売日を取得\n",
    "        release_date = None\n",
    "        for link in game_links:\n",
    "            try:\n",
    "                url = link.get_attribute(\"href\")\n",
    "                if not url.startswith(\"http\"):\n",
    "                    url = \"https://www.4gamer.net\" + url\n",
    "\n",
    "                driver.get(url)\n",
    "                WebDriverWait(driver, 10).until(\n",
    "                    EC.visibility_of_element_located((By.TAG_NAME, \"th\"))\n",
    "                )\n",
    "\n",
    "                th_list = driver.find_elements(By.TAG_NAME, \"th\")\n",
    "                for th in th_list:\n",
    "                    if \"発売日\" in th.text:\n",
    "                        try:\n",
    "                            td = th.find_element(By.XPATH, \"./following-sibling::td[2]\")\n",
    "                            release_date = td.text.strip()\n",
    "                            break\n",
    "                        except:\n",
    "                            continue\n",
    "\n",
    "                if release_date:\n",
    "                    df.at[idx, \"発売日\"] = release_date\n",
    "                    print(f\" → 発売日：{release_date}\")\n",
    "                    break\n",
    "\n",
    "            except Exception as sub_e:\n",
    "                print(\" → ページ処理中エラー:\")\n",
    "                traceback.print_exc()\n",
    "                continue\n",
    "\n",
    "        if not release_date:\n",
    "            print(\" → 発売日が見つかりません\")\n",
    "\n",
    "    except Exception as e:\n",
    "        print(\" → メイン処理エラー:\")\n",
    "        traceback.print_exc()\n",
    "        continue"
   ]
  },
  {
   "cell_type": "code",
   "execution_count": null,
   "id": "b8877a08",
   "metadata": {},
   "outputs": [],
   "source": [
    "# ▼ ドライバ終了＆CSV保存\n",
    "driver.quit()\n",
    "df.to_csv(output_file, index=False, encoding=\"utf-8-sig\")\n",
    "print(f\"\\n 処理完了 → {output_file} に保存されました。\")"
   ]
  }
 ],
 "metadata": {
  "kernelspec": {
   "display_name": "Python 3",
   "language": "python",
   "name": "python3"
  },
  "language_info": {
   "codemirror_mode": {
    "name": "ipython",
    "version": 3
   },
   "file_extension": ".py",
   "mimetype": "text/x-python",
   "name": "python",
   "nbconvert_exporter": "python",
   "pygments_lexer": "ipython3",
   "version": "3.13.3"
  }
 },
 "nbformat": 4,
 "nbformat_minor": 5
}
