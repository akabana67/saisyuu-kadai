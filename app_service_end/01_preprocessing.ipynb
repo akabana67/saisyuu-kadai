{
 "cells": [
  {
   "cell_type": "markdown",
   "id": "0a039056",
   "metadata": {},
   "source": [
    "## 前処理\n",
    "\n",
    "1. データ結合する2つのファイルをそれぞれ整形  \n",
    "   - `cleaned_output.csv`（売上・年月・終了日データ）  \n",
    "     - 不要な列の削除  \n",
    "     - 日付の整形（終了日を `YYYY/MM/DD` に統一）  \n",
    "   - `4gamer_output_correct.csv`（発売日・備考データ）  \n",
    "     - 元の `4gamer_output.csv` に含まれていた欠損タイトルを手動で補完済み  \n",
    "     - 必要な列の整形とクリーンアップを実施\n",
    "\n",
    "2. タイトル列をキーにして、2つのファイルを内部結合\n",
    "- 各タイトル各月の売上に欠損値有→売上平均で補完\n",
    "- 補完後の前処理済ファイルを`merged_filled.csv`として保存"
   ]
  },
  {
   "cell_type": "markdown",
   "id": "204c8fd8",
   "metadata": {},
   "source": [
    "### 1.1. ライブラリとCSVの読み込み"
   ]
  },
  {
   "cell_type": "code",
   "execution_count": null,
   "id": "89c10178",
   "metadata": {},
   "outputs": [],
   "source": [
    "import pandas as pd\n",
    "from decimal import Decimal\n",
    "\n",
    "# ファイル読み込み（パスを必要に応じて調整）\n",
    "file_path = \"full_data_with_cleaned_titles.csv\"\n",
    "df = pd.read_csv(file_path)"
   ]
  },
  {
   "cell_type": "markdown",
   "id": "03951ce0",
   "metadata": {},
   "source": [
    "### 1.2. タイトル整形と不要列削除"
   ]
  },
  {
   "cell_type": "code",
   "execution_count": 44,
   "id": "19d1d51c",
   "metadata": {},
   "outputs": [],
   "source": [
    "# タイトル列をクリーンタイトルで置き換え\n",
    "df[\"タイトル\"] = df[\"クリーンタイトル\"]\n",
    "\n",
    "# 不要な列（クリーンタイトル、関連ジャンル）を削除\n",
    "df = df.drop(columns=[\"クリーンタイトル\", \"関連ジャンル\"])"
   ]
  },
  {
   "cell_type": "markdown",
   "id": "2f79be3a",
   "metadata": {},
   "source": [
    "### 1.3. サービス終了日の整形"
   ]
  },
  {
   "cell_type": "code",
   "execution_count": 45,
   "id": "a57dcfd0",
   "metadata": {},
   "outputs": [],
   "source": [
    "# サービス終了日を datetime に変換し、\"YYYY/MM/DD\" 形式に整形\n",
    "df[\"サービス終了日\"] = pd.to_datetime(df[\"サービス終了日\"], errors='coerce').dt.strftime(\"%Y/%m/%d\")"
   ]
  },
  {
   "cell_type": "markdown",
   "id": "7a2fc0af",
   "metadata": {},
   "source": [
    "### 1.4.　売上予測を円に変換"
   ]
  },
  {
   "cell_type": "code",
   "execution_count": 46,
   "id": "459f0aca",
   "metadata": {},
   "outputs": [],
   "source": [
    "# カンマやGを除去して、\"億\"/\"万\"単位を円に換算\n",
    "def parse_sales(s):\n",
    "    if pd.isna(s):\n",
    "        return None\n",
    "    s = str(s).replace(\"G\", \"\").replace(\",\", \"\")\n",
    "    if \"億\" in s:\n",
    "        return float(Decimal(s.replace(\"億\", \"\")) * Decimal(\"1e8\"))\n",
    "    elif \"万\" in s:\n",
    "        return float(Decimal(s.replace(\"万\", \"\")) * Decimal(\"1e4\"))\n",
    "    else:\n",
    "        return None"
   ]
  },
  {
   "cell_type": "markdown",
   "id": "517ddeda",
   "metadata": {},
   "source": [
    "### 1.5. 売上列の整理"
   ]
  },
  {
   "cell_type": "code",
   "execution_count": 47,
   "id": "4b04366b",
   "metadata": {},
   "outputs": [
    {
     "data": {
      "text/html": [
       "<div>\n",
       "<style scoped>\n",
       "    .dataframe tbody tr th:only-of-type {\n",
       "        vertical-align: middle;\n",
       "    }\n",
       "\n",
       "    .dataframe tbody tr th {\n",
       "        vertical-align: top;\n",
       "    }\n",
       "\n",
       "    .dataframe thead th {\n",
       "        text-align: right;\n",
       "    }\n",
       "</style>\n",
       "<table border=\"1\" class=\"dataframe\">\n",
       "  <thead>\n",
       "    <tr style=\"text-align: right;\">\n",
       "      <th></th>\n",
       "      <th>タイトル</th>\n",
       "      <th>年月</th>\n",
       "      <th>サービス終了日</th>\n",
       "      <th>売上予測（円）</th>\n",
       "    </tr>\n",
       "  </thead>\n",
       "  <tbody>\n",
       "    <tr>\n",
       "      <th>0</th>\n",
       "      <td>スーパーガンダムロワイヤル</td>\n",
       "      <td>2018/12</td>\n",
       "      <td>2021/07/29</td>\n",
       "      <td>248000000</td>\n",
       "    </tr>\n",
       "    <tr>\n",
       "      <th>1</th>\n",
       "      <td>スーパーガンダムロワイヤル</td>\n",
       "      <td>2018/11</td>\n",
       "      <td>2021/07/29</td>\n",
       "      <td>251000000</td>\n",
       "    </tr>\n",
       "    <tr>\n",
       "      <th>2</th>\n",
       "      <td>スーパーガンダムロワイヤル</td>\n",
       "      <td>2018/10</td>\n",
       "      <td>2021/07/29</td>\n",
       "      <td>263000000</td>\n",
       "    </tr>\n",
       "    <tr>\n",
       "      <th>3</th>\n",
       "      <td>スーパーガンダムロワイヤル</td>\n",
       "      <td>2018/09</td>\n",
       "      <td>2021/07/29</td>\n",
       "      <td>190000000</td>\n",
       "    </tr>\n",
       "    <tr>\n",
       "      <th>4</th>\n",
       "      <td>スーパーガンダムロワイヤル</td>\n",
       "      <td>2018/08</td>\n",
       "      <td>2021/07/29</td>\n",
       "      <td>198000000</td>\n",
       "    </tr>\n",
       "  </tbody>\n",
       "</table>\n",
       "</div>"
      ],
      "text/plain": [
       "            タイトル       年月     サービス終了日    売上予測（円）\n",
       "0  スーパーガンダムロワイヤル  2018/12  2021/07/29  248000000\n",
       "1  スーパーガンダムロワイヤル  2018/11  2021/07/29  251000000\n",
       "2  スーパーガンダムロワイヤル  2018/10  2021/07/29  263000000\n",
       "3  スーパーガンダムロワイヤル  2018/09  2021/07/29  190000000\n",
       "4  スーパーガンダムロワイヤル  2018/08  2021/07/29  198000000"
      ]
     },
     "execution_count": 47,
     "metadata": {},
     "output_type": "execute_result"
    }
   ],
   "source": [
    "# 売上予測（円）を作成して四捨五入\n",
    "df[\"売上予測（円）\"] = df[\"売上予測\"].apply(parse_sales).round().astype(\"Int64\")\n",
    "\n",
    "# 元の「売上予測」列を削除\n",
    "df = df.drop(columns=[\"売上予測\"])\n",
    "\n",
    "# 確認\n",
    "df.head()"
   ]
  },
  {
   "cell_type": "markdown",
   "id": "5dc407d0",
   "metadata": {},
   "source": [
    "### 1.6. 整形後データの保存"
   ]
  },
  {
   "cell_type": "code",
   "execution_count": 48,
   "id": "4046b94b",
   "metadata": {},
   "outputs": [],
   "source": [
    "# 整形後データの保存\n",
    "df.to_csv(\"cleaned_output.csv\", index=False, encoding=\"utf-8-sig\")"
   ]
  },
  {
   "cell_type": "markdown",
   "id": "207e409c",
   "metadata": {},
   "source": [
    "### 2.1. 発売日データの読み込み"
   ]
  },
  {
   "cell_type": "code",
   "execution_count": 49,
   "id": "17ea27f0",
   "metadata": {},
   "outputs": [],
   "source": [
    "# ファイルの読み込み\n",
    "df_cleaned = pd.read_csv(\"cleaned_output.csv\")  # 売上・年月・終了日など\n",
    "df_4gamer = pd.read_csv(\"4gamer_output_corrected.csv\")  # 発売日・備考などの情報"
   ]
  },
  {
   "cell_type": "markdown",
   "id": "11140f41",
   "metadata": {},
   "source": [
    "### 2.2. 2つのファイルを結合"
   ]
  },
  {
   "cell_type": "code",
   "execution_count": 50,
   "id": "8fc541ad",
   "metadata": {},
   "outputs": [],
   "source": [
    "#　結合前に\"yyyy/mm\"形式化\n",
    "df_cleaned[\"年月\"] = pd.to_datetime(df_cleaned[\"年月\"],format=\"%Y/%m\", errors=\"coerce\").dt.strftime(\"%Y/%m\")\n",
    "\n",
    "# タイトルをキーにして内部結合\n",
    "merged_df = pd.merge(df_cleaned, df_4gamer, on=\"タイトル\", how=\"inner\")"
   ]
  },
  {
   "cell_type": "markdown",
   "id": "df9db3ec",
   "metadata": {},
   "source": [
    "### 2.3. カラム名の整形と並べ替え"
   ]
  },
  {
   "cell_type": "code",
   "execution_count": 51,
   "id": "3b2f00e2",
   "metadata": {},
   "outputs": [],
   "source": [
    "merged_df = merged_df.rename(columns={\"発売日\": \"サービス開始日\"})\n",
    "columns_order = [\"タイトル\", \"年月\", \"売上予測（円）\", \"サービス開始日\", \"サービス終了日\", \"備考\"]\n",
    "reordered_df = merged_df[columns_order]"
   ]
  },
  {
   "cell_type": "markdown",
   "id": "e5d0d3e9",
   "metadata": {},
   "source": [
    "### 2.4. 年月と日付をdatetime型に変換"
   ]
  },
  {
   "cell_type": "code",
   "execution_count": 52,
   "id": "5ec69757",
   "metadata": {},
   "outputs": [],
   "source": [
    "reordered_df[\"年月\"] = pd.to_datetime(reordered_df[\"年月\"], format=\"%Y/%m\", errors=\"coerce\")\n",
    "reordered_df[\"サービス開始日\"] = pd.to_datetime(reordered_df[\"サービス開始日\"], errors=\"coerce\")\n",
    "reordered_df[\"サービス終了日\"] = pd.to_datetime(reordered_df[\"サービス終了日\"], errors=\"coerce\")"
   ]
  },
  {
   "cell_type": "markdown",
   "id": "d01305ef",
   "metadata": {},
   "source": [
    "### 2.5.　タイトルごとの補完処理"
   ]
  },
  {
   "cell_type": "code",
   "execution_count": 58,
   "id": "9c356da2",
   "metadata": {},
   "outputs": [
    {
     "name": "stderr",
     "output_type": "stream",
     "text": [
      "C:\\Users\\zakky\\AppData\\Local\\Temp\\ipykernel_19472\\3778886236.py:10: FutureWarning: Downcasting object dtype arrays on .fillna, .ffill, .bfill is deprecated and will change in a future version. Call result.infer_objects(copy=False) instead. To opt-in to the future behavior, set `pd.set_option('future.no_silent_downcasting', True)`\n",
      "  group[col] = group[col].ffill().bfill()\n",
      "C:\\Users\\zakky\\AppData\\Local\\Temp\\ipykernel_19472\\3778886236.py:19: DeprecationWarning: DataFrameGroupBy.apply operated on the grouping columns. This behavior is deprecated, and in a future version of pandas the grouping columns will be excluded from the operation. Either pass `include_groups=False` to exclude the groupings or explicitly select the grouping columns after groupby to silence this warning.\n",
      "  mean_filled_df = reordered_df.groupby(\"タイトル\", group_keys=False).apply(fill_with_title_mean)\n"
     ]
    }
   ],
   "source": [
    "def fill_with_title_mean(group):\n",
    "    start = group[\"サービス開始日\"].iloc[0].replace(day=1) # 月単位で補完するため1日で揃える\n",
    "    end = group[\"サービス終了日\"].iloc[0].replace(day=1)\n",
    "    full_range = pd.date_range(start, end, freq=\"MS\") # pb.date_range(s, e, frec): 日付の連続リスト作成\n",
    "    \n",
    "    group = group.set_index(\"年月\").reindex(full_range) # group.set_index():指定列をインデックスとして設定/ .reindex():()で再配置し，元のdfに存在しない場合NaNで埋める\n",
    "    group.index.name = \"年月\"\n",
    "    \n",
    "    for col in [\"タイトル\", \"サービス開始日\", \"サービス終了日\", \"備考\"]:\n",
    "        group[col] = group[col].ffill().bfill()\n",
    "        group = group.infer_objects(copy=False) # ffill():直前の値で補完、bfill():直後の値で補完\n",
    "\n",
    "    group[\"売上予測（円）\"] = pd.to_numeric(group[\"売上予測（円）\"], errors=\"coerce\") # pd.to_numeric():文字列や混合データを数値型に変換する関数\n",
    "    title_mean = group[\"売上予測（円）\"].mean()\n",
    "    group[\"売上予測（円）\"] = group[\"売上予測（円）\"].fillna(title_mean)\n",
    "\n",
    "    return group.reset_index() # reset_index():インデックスを普通の列に戻し，デフォルトの数値インデックスに置き換える\n",
    "# 平均補完の実行\n",
    "mean_filled_df = reordered_df.groupby(\"タイトル\", group_keys=False).apply(fill_with_title_mean) \n",
    "# group_keys=False:グループキーを普通の列として残す　.apply():行または列に関数を一括して適用"
   ]
  },
  {
   "cell_type": "markdown",
   "id": "8a9bdc85",
   "metadata": {},
   "source": [
    "### 2.6. 前処理データの保存"
   ]
  },
  {
   "cell_type": "code",
   "execution_count": 59,
   "id": "c1787eec",
   "metadata": {},
   "outputs": [],
   "source": [
    "mean_filled_df.to_csv(\"merged_filled.csv\", index=False, encoding=\"utf-8-sig\")"
   ]
  }
 ],
 "metadata": {
  "kernelspec": {
   "display_name": "Python 3",
   "language": "python",
   "name": "python3"
  },
  "language_info": {
   "codemirror_mode": {
    "name": "ipython",
    "version": 3
   },
   "file_extension": ".py",
   "mimetype": "text/x-python",
   "name": "python",
   "nbconvert_exporter": "python",
   "pygments_lexer": "ipython3",
   "version": "3.13.3"
  }
 },
 "nbformat": 4,
 "nbformat_minor": 5
}
