{
 "cells": [
  {
   "cell_type": "markdown",
   "id": "366e4e93",
   "metadata": {},
   "source": [
    "## 分析準備：アプリごとの売上基本統計の算出\n",
    "\n",
    "- 前処理済みのファイル `merged_and_ordered.csv` を読み込む\n",
    "- 「年月」列を `datetime` 型に変換し、売上列（売上予測（円））を数値型に変換する\n",
    "- アプリごとに以下の統計量を算出する\n",
    "  - 観測月数（売上が記録されている月数）\n",
    "  - 売上合計（総売上）\n",
    "  - 売上中央値（月次売上の中央値）\n",
    "  - 最大月売上（最も売上が高かった月）\n",
    "  - 最終売上月（最後に記録された売上月）\n",
    "- 結果を `summary_df` として出力し、先頭5行を確認する"
   ]
  },
  {
   "cell_type": "markdown",
   "id": "dbb70404",
   "metadata": {},
   "source": [
    "### 1.1. データの読み込み"
   ]
  },
  {
   "cell_type": "code",
   "execution_count": 27,
   "id": "622ca58f",
   "metadata": {},
   "outputs": [],
   "source": [
    "import pandas as pd\n",
    "\n",
    "# 前処理済みのファイル（merged_and_ordered.csv）を読み込み\n",
    "file_path = \"merged_and_ordered.csv\"\n",
    "df = pd.read_csv(file_path)"
   ]
  },
  {
   "cell_type": "markdown",
   "id": "fcc4a165",
   "metadata": {},
   "source": [
    "### 1.2. 日付と売上列の整形"
   ]
  },
  {
   "cell_type": "code",
   "execution_count": 28,
   "id": "b225603d",
   "metadata": {},
   "outputs": [],
   "source": [
    "# 日付・数値変換\n",
    "df[\"年月\"] = pd.to_datetime(df[\"年月\"], format=\"%Y/%m\", errors=\"coerce\")\n",
    "df[\"売上予測（円）\"] = pd.to_numeric(df[\"売上予測（円）\"], errors=\"coerce\")"
   ]
  },
  {
   "cell_type": "markdown",
   "id": "e4bd3626",
   "metadata": {},
   "source": [
    "### 1.3. アプリごとの売上統計の算出"
   ]
  },
  {
   "cell_type": "code",
   "execution_count": 29,
   "id": "73474f3c",
   "metadata": {},
   "outputs": [],
   "source": [
    "def summarize_app(group):\n",
    "    group = group.sort_values(\"年月\")\n",
    "    return pd.Series({\n",
    "        \"観測月数\": group[\"売上予測（円）\"].count(),\n",
    "        \"売上合計\": group[\"売上予測（円）\"].sum(),\n",
    "        \"売上中央値\": group[\"売上予測（円）\"].median(),\n",
    "        \"最大月売上\": group[\"売上予測（円）\"].max(),\n",
    "        \"最終売上月\": group[\"年月\"].max(),\n",
    "        \"サービス終了日\": group[\"サービス終了日\"].iloc[0]\n",
    "    })\n",
    "\n",
    "# グループキーを手動で指定してから groupby（警告・エラー回避）\n",
    "summary_df = (\n",
    "    df.drop(columns=\"タイトル\")\n",
    "      .groupby(df[\"タイトル\"])\n",
    "      .apply(summarize_app)\n",
    "      .reset_index()\n",
    ")\n",
    "\n",
    "summary_df[\"最終売上月\"] = summary_df[\"最終売上月\"].dt.strftime(\"%Y-%m\")"
   ]
  },
  {
   "cell_type": "markdown",
   "id": "c2273923",
   "metadata": {},
   "source": [
    "### 1.4.　保存と結果表示"
   ]
  },
  {
   "cell_type": "code",
   "execution_count": 30,
   "id": "df6599e8",
   "metadata": {},
   "outputs": [
    {
     "data": {
      "text/html": [
       "<div>\n",
       "<style scoped>\n",
       "    .dataframe tbody tr th:only-of-type {\n",
       "        vertical-align: middle;\n",
       "    }\n",
       "\n",
       "    .dataframe tbody tr th {\n",
       "        vertical-align: top;\n",
       "    }\n",
       "\n",
       "    .dataframe thead th {\n",
       "        text-align: right;\n",
       "    }\n",
       "</style>\n",
       "<table border=\"1\" class=\"dataframe\">\n",
       "  <thead>\n",
       "    <tr style=\"text-align: right;\">\n",
       "      <th></th>\n",
       "      <th>タイトル</th>\n",
       "      <th>観測月数</th>\n",
       "      <th>売上合計</th>\n",
       "      <th>売上中央値</th>\n",
       "      <th>最大月売上</th>\n",
       "      <th>最終売上月</th>\n",
       "      <th>サービス終了日</th>\n",
       "    </tr>\n",
       "  </thead>\n",
       "  <tbody>\n",
       "    <tr>\n",
       "      <th>0</th>\n",
       "      <td>12オーディンズ - 王道RPG</td>\n",
       "      <td>4</td>\n",
       "      <td>19760000</td>\n",
       "      <td>2605000.0</td>\n",
       "      <td>12850000</td>\n",
       "      <td>2018-04</td>\n",
       "      <td>2018/10/31</td>\n",
       "    </tr>\n",
       "    <tr>\n",
       "      <th>1</th>\n",
       "      <td>22/7 音楽の時間</td>\n",
       "      <td>16</td>\n",
       "      <td>533910000</td>\n",
       "      <td>26295000.0</td>\n",
       "      <td>102000000</td>\n",
       "      <td>2021-08</td>\n",
       "      <td>2021/12/22</td>\n",
       "    </tr>\n",
       "    <tr>\n",
       "      <th>2</th>\n",
       "      <td>23/7 トゥエンティ スリー セブン</td>\n",
       "      <td>3</td>\n",
       "      <td>45400000</td>\n",
       "      <td>5280000.0</td>\n",
       "      <td>36480000</td>\n",
       "      <td>2018-08</td>\n",
       "      <td>2018/12/27</td>\n",
       "    </tr>\n",
       "    <tr>\n",
       "      <th>3</th>\n",
       "      <td>404 GAME RE：SET -エラーゲームリセット-</td>\n",
       "      <td>8</td>\n",
       "      <td>335130000</td>\n",
       "      <td>42960000.0</td>\n",
       "      <td>84530000</td>\n",
       "      <td>2023-11</td>\n",
       "      <td>2024/01/05</td>\n",
       "    </tr>\n",
       "    <tr>\n",
       "      <th>4</th>\n",
       "      <td>8 beat Story ~アイドル×音楽ゲーム~</td>\n",
       "      <td>12</td>\n",
       "      <td>13570000</td>\n",
       "      <td>570000.0</td>\n",
       "      <td>4620000</td>\n",
       "      <td>2024-05</td>\n",
       "      <td>2024/06/30</td>\n",
       "    </tr>\n",
       "  </tbody>\n",
       "</table>\n",
       "</div>"
      ],
      "text/plain": [
       "                           タイトル  観測月数       売上合計       売上中央値      最大月売上  \\\n",
       "0              12オーディンズ - 王道RPG     4   19760000   2605000.0   12850000   \n",
       "1                    22/7 音楽の時間    16  533910000  26295000.0  102000000   \n",
       "2           23/7 トゥエンティ スリー セブン     3   45400000   5280000.0   36480000   \n",
       "3  404 GAME RE：SET -エラーゲームリセット-     8  335130000  42960000.0   84530000   \n",
       "4     8 beat Story ~アイドル×音楽ゲーム~    12   13570000    570000.0    4620000   \n",
       "\n",
       "     最終売上月     サービス終了日  \n",
       "0  2018-04  2018/10/31  \n",
       "1  2021-08  2021/12/22  \n",
       "2  2018-08  2018/12/27  \n",
       "3  2023-11  2024/01/05  \n",
       "4  2024-05  2024/06/30  "
      ]
     },
     "execution_count": 30,
     "metadata": {},
     "output_type": "execute_result"
    }
   ],
   "source": [
    "summary_df.to_csv(\"summary_df.csv\", index=False)\n",
    "summary_df.head()"
   ]
  }
 ],
 "metadata": {
  "kernelspec": {
   "display_name": "Python 3",
   "language": "python",
   "name": "python3"
  },
  "language_info": {
   "codemirror_mode": {
    "name": "ipython",
    "version": 3
   },
   "file_extension": ".py",
   "mimetype": "text/x-python",
   "name": "python",
   "nbconvert_exporter": "python",
   "pygments_lexer": "ipython3",
   "version": "3.13.3"
  }
 },
 "nbformat": 4,
 "nbformat_minor": 5
}
