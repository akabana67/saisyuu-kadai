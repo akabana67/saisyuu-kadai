{
 "cells": [
  {
   "cell_type": "markdown",
   "id": "312e0b06",
   "metadata": {},
   "source": [
    "### ライブラリの読み込み"
   ]
  },
  {
   "cell_type": "code",
   "execution_count": 11,
   "id": "7b5b394e",
   "metadata": {},
   "outputs": [],
   "source": [
    "import pandas as pd"
   ]
  },
  {
   "cell_type": "markdown",
   "id": "4ef8a6d9",
   "metadata": {},
   "source": [
    "### CSVファイルの読み込み"
   ]
  },
  {
   "cell_type": "code",
   "execution_count": 12,
   "id": "17f9ebaf",
   "metadata": {},
   "outputs": [
    {
     "data": {
      "text/html": [
       "<div>\n",
       "<style scoped>\n",
       "    .dataframe tbody tr th:only-of-type {\n",
       "        vertical-align: middle;\n",
       "    }\n",
       "\n",
       "    .dataframe tbody tr th {\n",
       "        vertical-align: top;\n",
       "    }\n",
       "\n",
       "    .dataframe thead th {\n",
       "        text-align: right;\n",
       "    }\n",
       "</style>\n",
       "<table border=\"1\" class=\"dataframe\">\n",
       "  <thead>\n",
       "    <tr style=\"text-align: right;\">\n",
       "      <th></th>\n",
       "      <th>カード名/商品名</th>\n",
       "      <th>買取価格</th>\n",
       "    </tr>\n",
       "  </thead>\n",
       "  <tbody>\n",
       "    <tr>\n",
       "      <th>0</th>\n",
       "      <td>ギフトパック(未開封パック)</td>\n",
       "      <td>¥350,000</td>\n",
       "    </tr>\n",
       "    <tr>\n",
       "      <th>1</th>\n",
       "      <td>クイックスターター ギフトパック(未開封パック)</td>\n",
       "      <td>¥200,000</td>\n",
       "    </tr>\n",
       "    <tr>\n",
       "      <th>2</th>\n",
       "      <td>ロケット団 ギフトパック(未開封パック)</td>\n",
       "      <td>¥170,000</td>\n",
       "    </tr>\n",
       "    <tr>\n",
       "      <th>3</th>\n",
       "      <td>第1弾 スターターパック(未開封パック)</td>\n",
       "      <td>¥160,000</td>\n",
       "    </tr>\n",
       "    <tr>\n",
       "      <th>4</th>\n",
       "      <td>劇場限定VSパック(未開封パック)</td>\n",
       "      <td>¥150,000</td>\n",
       "    </tr>\n",
       "  </tbody>\n",
       "</table>\n",
       "</div>"
      ],
      "text/plain": [
       "                   カード名/商品名      買取価格\n",
       "0            ギフトパック(未開封パック)  ¥350,000\n",
       "1  クイックスターター ギフトパック(未開封パック)  ¥200,000\n",
       "2      ロケット団 ギフトパック(未開封パック)  ¥170,000\n",
       "3      第1弾 スターターパック(未開封パック)  ¥160,000\n",
       "4         劇場限定VSパック(未開封パック)  ¥150,000"
      ]
     },
     "execution_count": 12,
     "metadata": {},
     "output_type": "execute_result"
    }
   ],
   "source": [
    "file_path = \"pack_only.csv\"\n",
    "df = pd.read_csv(file_path)\n",
    "df.head()"
   ]
  },
  {
   "cell_type": "markdown",
   "id": "6e434973",
   "metadata": {},
   "source": [
    "### 除外するキーワードリストの定義"
   ]
  },
  {
   "cell_type": "code",
   "execution_count": 13,
   "id": "1e6703e1",
   "metadata": {},
   "outputs": [],
   "source": [
    "exclude_keywords = [\n",
    "    'ギフトパック', 'スターターパック', 'VSパック', '構築',\n",
    "    'コレクションシート', 'デッキ', 'スペシャル', 'プレミアム',\n",
    "    'サザンアイランド', '映画', 'タイプユニット'\n",
    "]\n",
    "\n",
    "pattern = '|'.join(exclude_keywords)"
   ]
  },
  {
   "cell_type": "markdown",
   "id": "4bdc81d8",
   "metadata": {},
   "source": [
    "### フィルタ処理の実行"
   ]
  },
  {
   "cell_type": "code",
   "execution_count": 14,
   "id": "f6b8c23f",
   "metadata": {},
   "outputs": [
    {
     "data": {
      "text/html": [
       "<div>\n",
       "<style scoped>\n",
       "    .dataframe tbody tr th:only-of-type {\n",
       "        vertical-align: middle;\n",
       "    }\n",
       "\n",
       "    .dataframe tbody tr th {\n",
       "        vertical-align: top;\n",
       "    }\n",
       "\n",
       "    .dataframe thead th {\n",
       "        text-align: right;\n",
       "    }\n",
       "</style>\n",
       "<table border=\"1\" class=\"dataframe\">\n",
       "  <thead>\n",
       "    <tr style=\"text-align: right;\">\n",
       "      <th></th>\n",
       "      <th>カード名/商品名</th>\n",
       "      <th>買取価格</th>\n",
       "    </tr>\n",
       "  </thead>\n",
       "  <tbody>\n",
       "    <tr>\n",
       "      <th>5</th>\n",
       "      <td>ポケモンカードゲームLEGEND パーフェクトセット(未開封パック)</td>\n",
       "      <td>¥150,000</td>\n",
       "    </tr>\n",
       "    <tr>\n",
       "      <th>7</th>\n",
       "      <td>さいはての攻防(未開封パック)</td>\n",
       "      <td>¥140,000</td>\n",
       "    </tr>\n",
       "    <tr>\n",
       "      <th>8</th>\n",
       "      <td>ロケット団の逆襲(未開封パック)</td>\n",
       "      <td>¥120,000</td>\n",
       "    </tr>\n",
       "    <tr>\n",
       "      <th>9</th>\n",
       "      <td>金の空、銀の海(未開封パック)</td>\n",
       "      <td>¥120,000</td>\n",
       "    </tr>\n",
       "    <tr>\n",
       "      <th>10</th>\n",
       "      <td>拡張パック第4弾 闇、そして光へ…(未開封パック)</td>\n",
       "      <td>¥110,000</td>\n",
       "    </tr>\n",
       "  </tbody>\n",
       "</table>\n",
       "</div>"
      ],
      "text/plain": [
       "                              カード名/商品名      買取価格\n",
       "5   ポケモンカードゲームLEGEND パーフェクトセット(未開封パック)  ¥150,000\n",
       "7                      さいはての攻防(未開封パック)  ¥140,000\n",
       "8                     ロケット団の逆襲(未開封パック)  ¥120,000\n",
       "9                      金の空、銀の海(未開封パック)  ¥120,000\n",
       "10           拡張パック第4弾 闇、そして光へ…(未開封パック)  ¥110,000"
      ]
     },
     "execution_count": 14,
     "metadata": {},
     "output_type": "execute_result"
    }
   ],
   "source": [
    "filtered_df = df[~df['カード名/商品名'].str.contains(pattern, na=False)]\n",
    "filtered_df.head()"
   ]
  },
  {
   "cell_type": "markdown",
   "id": "e4892953",
   "metadata": {},
   "source": [
    "### CSVファイルへの保存"
   ]
  },
  {
   "cell_type": "code",
   "execution_count": 15,
   "id": "48b95700",
   "metadata": {},
   "outputs": [
    {
     "name": "stdout",
     "output_type": "stream",
     "text": [
      "保存完了: filtered_pack_only.csv\n"
     ]
    }
   ],
   "source": [
    "output_path = \"filtered_pack_only.csv\"\n",
    "filtered_df.to_csv(output_path, index=False, encoding='utf-8-sig')\n",
    "print(f\"保存完了: {output_path}\")"
   ]
  }
 ],
 "metadata": {
  "kernelspec": {
   "display_name": "Python 3",
   "language": "python",
   "name": "python3"
  },
  "language_info": {
   "codemirror_mode": {
    "name": "ipython",
    "version": 3
   },
   "file_extension": ".py",
   "mimetype": "text/x-python",
   "name": "python",
   "nbconvert_exporter": "python",
   "pygments_lexer": "ipython3",
   "version": "3.13.3"
  }
 },
 "nbformat": 4,
 "nbformat_minor": 5
}
